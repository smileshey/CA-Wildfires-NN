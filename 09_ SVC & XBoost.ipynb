{
 "cells": [
  {
   "cell_type": "markdown",
   "id": "00095f2f",
   "metadata": {},
   "source": [
    "# SVC, Random Forest, and XBoost"
   ]
  },
  {
   "cell_type": "code",
   "execution_count": 3,
   "id": "d3202479",
   "metadata": {},
   "outputs": [],
   "source": [
    "import pandas as pd\n",
    "import numpy as np\n",
    "import matplotlib.pyplot as plt\n",
    "import seaborn as sns\n",
    "import sqlite3\n",
    "import pickle\n",
    "from datetime import datetime, timedelta \n",
    "\n",
    "from sklearn.compose import make_column_transformer\n",
    "from sklearn.pipeline import make_pipeline\n",
    "from sklearn.preprocessing import LabelEncoder, OneHotEncoder\n",
    "from sklearn.linear_model import LogisticRegression, LogisticRegressionCV\n",
    "from sklearn.ensemble import RandomForestClassifier, BaggingClassifier\n",
    "from sklearn.model_selection import train_test_split, cross_val_score, GridSearchCV, StratifiedKFold\n",
    "from sklearn.metrics import confusion_matrix, ConfusionMatrixDisplay\n",
    "from sklearn.preprocessing import StandardScaler\n",
    "\n",
    "from sklearn.metrics import precision_score, recall_score, f1_score, roc_auc_score, accuracy_score\n",
    "from xgboost import XGBClassifier\n",
    "from sklearn.svm import LinearSVC, SVC\n",
    "\n",
    "\n",
    "\n",
    "import warnings\n",
    "warnings.filterwarnings('ignore')\n",
    "\n",
    "from imblearn.under_sampling import NearMiss"
   ]
  },
  {
   "cell_type": "code",
   "execution_count": 4,
   "id": "5e3cd4ff",
   "metadata": {},
   "outputs": [],
   "source": [
    "with open('pickles/df.pkl', 'rb') as f:\n",
    "    df = pickle.load(f)"
   ]
  },
  {
   "cell_type": "code",
   "execution_count": 5,
   "id": "01681e8e",
   "metadata": {},
   "outputs": [
    {
     "data": {
      "text/plain": [
       "(52206, 21)"
      ]
     },
     "execution_count": 5,
     "metadata": {},
     "output_type": "execute_result"
    }
   ],
   "source": [
    "df.shape"
   ]
  },
  {
   "cell_type": "code",
   "execution_count": 6,
   "id": "fe7f5fee",
   "metadata": {},
   "outputs": [
    {
     "data": {
      "text/plain": [
       "Lightning         19825\n",
       "Negligence        13595\n",
       "Infrastructure     9829\n",
       "Arson              8957\n",
       "Name: STAT_CAUSE_DESCR, dtype: int64"
      ]
     },
     "execution_count": 6,
     "metadata": {},
     "output_type": "execute_result"
    }
   ],
   "source": [
    "df['STAT_CAUSE_DESCR'].value_counts()"
   ]
  },
  {
   "cell_type": "code",
   "execution_count": 7,
   "id": "b9478bdf",
   "metadata": {},
   "outputs": [],
   "source": [
    "lb = LabelEncoder()\n",
    "y = lb.fit_transform(df['STAT_CAUSE_DESCR'])"
   ]
  },
  {
   "cell_type": "code",
   "execution_count": 8,
   "id": "c48b7d27",
   "metadata": {},
   "outputs": [],
   "source": [
    "num_data = df.select_dtypes('number')"
   ]
  },
  {
   "cell_type": "code",
   "execution_count": 9,
   "id": "b057c9fa",
   "metadata": {},
   "outputs": [
    {
     "data": {
      "text/plain": [
       "Index(['STAT_CAUSE_DESCR', 'STATE', 'SOURCE_SYSTEM_TYPE', 'FIRE_SIZE_CLASS',\n",
       "       'SOURCE_REPORTING_UNIT_NAME'],\n",
       "      dtype='object')"
      ]
     },
     "execution_count": 9,
     "metadata": {},
     "output_type": "execute_result"
    }
   ],
   "source": [
    "cat_cols = df.select_dtypes('object').columns\n",
    "cat_cols"
   ]
  },
  {
   "cell_type": "code",
   "execution_count": 10,
   "id": "790084e9",
   "metadata": {},
   "outputs": [],
   "source": [
    "X = df.drop(columns = ['STAT_CAUSE_DESCR', 'STATE', 'SOURCE_REPORTING_UNIT_NAME'])"
   ]
  },
  {
   "cell_type": "code",
   "execution_count": 11,
   "id": "193d5bf9",
   "metadata": {},
   "outputs": [],
   "source": [
    "#Train Test Split\n",
    "X_train, X_test, y_train, y_test = train_test_split(X,y,\n",
    "                                                    test_size = 0.4,\n",
    "                                                    random_state = 42, stratify = y)"
   ]
  },
  {
   "cell_type": "code",
   "execution_count": 12,
   "id": "e5a8db43",
   "metadata": {},
   "outputs": [
    {
     "name": "stdout",
     "output_type": "stream",
     "text": [
      "Train Score: [0.54828412 0.54317638 0.54317638        nan 0.53799489]\n",
      "Test Score:[0.53794589 0.55925305 0.53291836 0.55555556 0.5414272 ]\n"
     ]
    }
   ],
   "source": [
    "#Fitting LOGISTIC Regression\n",
    "log = LogisticRegression()\n",
    "column_trans = make_column_transformer(\n",
    "(OneHotEncoder(), ['SOURCE_SYSTEM_TYPE', 'FIRE_SIZE_CLASS']), \n",
    "remainder = 'passthrough')\n",
    "column_trans.fit_transform(X_train, y_train)\n",
    "pipe = make_pipeline(column_trans,log)\n",
    "print(f'Train Score: {cross_val_score(pipe,X_train,y_train, cv = 5)}')\n",
    "print(f'Test Score:{cross_val_score(pipe, X_test, y_test, cv = 5)}')"
   ]
  },
  {
   "cell_type": "code",
   "execution_count": 13,
   "id": "d8e20bea",
   "metadata": {},
   "outputs": [
    {
     "name": "stdout",
     "output_type": "stream",
     "text": [
      "0.5457970181655653\n",
      "0.5458028061102332\n"
     ]
    }
   ],
   "source": [
    "pipe.fit(X_train, y_train)\n",
    "print(pipe.score(X_train, y_train))\n",
    "print(pipe.score(X_test, y_test))"
   ]
  },
  {
   "cell_type": "code",
   "execution_count": 14,
   "id": "6be9a760",
   "metadata": {},
   "outputs": [
    {
     "data": {
      "text/plain": [
       "Index(['DISCOVERY_DOY', 'duration', 'LATITUDE', 'LONGITUDE', 'FIRE_YEAR',\n",
       "       'FIRE_SIZE', 'elevation', 'bdod', 'cec', 'cfvo', 'clay', 'nitrogen',\n",
       "       'phh2o', 'sand', 'silt', 'soc'],\n",
       "      dtype='object')"
      ]
     },
     "execution_count": 14,
     "metadata": {},
     "output_type": "execute_result"
    }
   ],
   "source": [
    "num_data.columns"
   ]
  },
  {
   "cell_type": "code",
   "execution_count": 15,
   "id": "7298e1b3",
   "metadata": {},
   "outputs": [],
   "source": [
    "X = df.drop(columns = ['STAT_CAUSE_DESCR', 'STATE', 'SOURCE_REPORTING_UNIT_NAME', \n",
    "                      'DISCOVERY_DOY', 'FIRE_YEAR'])"
   ]
  },
  {
   "cell_type": "code",
   "execution_count": 16,
   "id": "730ca62f",
   "metadata": {},
   "outputs": [],
   "source": [
    "new_df = df.drop(columns = ['STAT_CAUSE_DESCR', 'STATE', 'SOURCE_REPORTING_UNIT_NAME', \n",
    "                      'DISCOVERY_DOY', 'FIRE_YEAR'])"
   ]
  },
  {
   "cell_type": "code",
   "execution_count": 17,
   "id": "c3a13d13",
   "metadata": {},
   "outputs": [],
   "source": [
    "#Train Test Split\n",
    "X_train, X_test, y_train, y_test = train_test_split(X,y,\n",
    "                                                    test_size = 0.3,\n",
    "                                                    random_state = 42, stratify = y)"
   ]
  },
  {
   "cell_type": "code",
   "execution_count": 18,
   "id": "f2b25b87",
   "metadata": {},
   "outputs": [
    {
     "name": "stdout",
     "output_type": "stream",
     "text": [
      "Train Score: [0.56888767 0.58503215        nan 0.57914899 0.57498632]\n",
      "Test Score:[0.56399617 0.57708267 0.57790549 0.57215837 0.58333333]\n"
     ]
    }
   ],
   "source": [
    "#Fitting Linear Regression with scaling\n",
    "log = LogisticRegression()\n",
    "column_trans = make_column_transformer(\n",
    "(StandardScaler(), ['duration', 'LATITUDE', 'LONGITUDE',\n",
    "                       'FIRE_SIZE', 'elevation', 'bdod', 'cec', 'cfvo', 'clay', 'nitrogen',\n",
    "                   'phh2o', 'sand', 'silt', 'soc']),\n",
    "(OneHotEncoder(), ['SOURCE_SYSTEM_TYPE', 'FIRE_SIZE_CLASS']), \n",
    "remainder = 'passthrough')\n",
    "column_trans.fit_transform(X_train, y_train)\n",
    "pipe = make_pipeline(column_trans,log)\n",
    "\n",
    "print(f'Train Score: {cross_val_score(pipe,X_train,y_train, cv = 5)}')\n",
    "print(f'Test Score:{cross_val_score(pipe, X_test, y_test, cv = 5)}')"
   ]
  },
  {
   "cell_type": "code",
   "execution_count": 19,
   "id": "0b4fe97d",
   "metadata": {},
   "outputs": [
    {
     "data": {
      "text/html": [
       "<style>#sk-container-id-1 {color: black;background-color: white;}#sk-container-id-1 pre{padding: 0;}#sk-container-id-1 div.sk-toggleable {background-color: white;}#sk-container-id-1 label.sk-toggleable__label {cursor: pointer;display: block;width: 100%;margin-bottom: 0;padding: 0.3em;box-sizing: border-box;text-align: center;}#sk-container-id-1 label.sk-toggleable__label-arrow:before {content: \"▸\";float: left;margin-right: 0.25em;color: #696969;}#sk-container-id-1 label.sk-toggleable__label-arrow:hover:before {color: black;}#sk-container-id-1 div.sk-estimator:hover label.sk-toggleable__label-arrow:before {color: black;}#sk-container-id-1 div.sk-toggleable__content {max-height: 0;max-width: 0;overflow: hidden;text-align: left;background-color: #f0f8ff;}#sk-container-id-1 div.sk-toggleable__content pre {margin: 0.2em;color: black;border-radius: 0.25em;background-color: #f0f8ff;}#sk-container-id-1 input.sk-toggleable__control:checked~div.sk-toggleable__content {max-height: 200px;max-width: 100%;overflow: auto;}#sk-container-id-1 input.sk-toggleable__control:checked~label.sk-toggleable__label-arrow:before {content: \"▾\";}#sk-container-id-1 div.sk-estimator input.sk-toggleable__control:checked~label.sk-toggleable__label {background-color: #d4ebff;}#sk-container-id-1 div.sk-label input.sk-toggleable__control:checked~label.sk-toggleable__label {background-color: #d4ebff;}#sk-container-id-1 input.sk-hidden--visually {border: 0;clip: rect(1px 1px 1px 1px);clip: rect(1px, 1px, 1px, 1px);height: 1px;margin: -1px;overflow: hidden;padding: 0;position: absolute;width: 1px;}#sk-container-id-1 div.sk-estimator {font-family: monospace;background-color: #f0f8ff;border: 1px dotted black;border-radius: 0.25em;box-sizing: border-box;margin-bottom: 0.5em;}#sk-container-id-1 div.sk-estimator:hover {background-color: #d4ebff;}#sk-container-id-1 div.sk-parallel-item::after {content: \"\";width: 100%;border-bottom: 1px solid gray;flex-grow: 1;}#sk-container-id-1 div.sk-label:hover label.sk-toggleable__label {background-color: #d4ebff;}#sk-container-id-1 div.sk-serial::before {content: \"\";position: absolute;border-left: 1px solid gray;box-sizing: border-box;top: 0;bottom: 0;left: 50%;z-index: 0;}#sk-container-id-1 div.sk-serial {display: flex;flex-direction: column;align-items: center;background-color: white;padding-right: 0.2em;padding-left: 0.2em;position: relative;}#sk-container-id-1 div.sk-item {position: relative;z-index: 1;}#sk-container-id-1 div.sk-parallel {display: flex;align-items: stretch;justify-content: center;background-color: white;position: relative;}#sk-container-id-1 div.sk-item::before, #sk-container-id-1 div.sk-parallel-item::before {content: \"\";position: absolute;border-left: 1px solid gray;box-sizing: border-box;top: 0;bottom: 0;left: 50%;z-index: -1;}#sk-container-id-1 div.sk-parallel-item {display: flex;flex-direction: column;z-index: 1;position: relative;background-color: white;}#sk-container-id-1 div.sk-parallel-item:first-child::after {align-self: flex-end;width: 50%;}#sk-container-id-1 div.sk-parallel-item:last-child::after {align-self: flex-start;width: 50%;}#sk-container-id-1 div.sk-parallel-item:only-child::after {width: 0;}#sk-container-id-1 div.sk-dashed-wrapped {border: 1px dashed gray;margin: 0 0.4em 0.5em 0.4em;box-sizing: border-box;padding-bottom: 0.4em;background-color: white;}#sk-container-id-1 div.sk-label label {font-family: monospace;font-weight: bold;display: inline-block;line-height: 1.2em;}#sk-container-id-1 div.sk-label-container {text-align: center;}#sk-container-id-1 div.sk-container {/* jupyter's `normalize.less` sets `[hidden] { display: none; }` but bootstrap.min.css set `[hidden] { display: none !important; }` so we also need the `!important` here to be able to override the default hidden behavior on the sphinx rendered scikit-learn.org. See: https://github.com/scikit-learn/scikit-learn/issues/21755 */display: inline-block !important;position: relative;}#sk-container-id-1 div.sk-text-repr-fallback {display: none;}</style><div id=\"sk-container-id-1\" class=\"sk-top-container\"><div class=\"sk-text-repr-fallback\"><pre>Pipeline(steps=[(&#x27;columntransformer&#x27;,\n",
       "                 ColumnTransformer(remainder=&#x27;passthrough&#x27;,\n",
       "                                   transformers=[(&#x27;standardscaler&#x27;,\n",
       "                                                  StandardScaler(),\n",
       "                                                  [&#x27;duration&#x27;, &#x27;LATITUDE&#x27;,\n",
       "                                                   &#x27;LONGITUDE&#x27;, &#x27;FIRE_SIZE&#x27;,\n",
       "                                                   &#x27;elevation&#x27;, &#x27;bdod&#x27;, &#x27;cec&#x27;,\n",
       "                                                   &#x27;cfvo&#x27;, &#x27;clay&#x27;, &#x27;nitrogen&#x27;,\n",
       "                                                   &#x27;phh2o&#x27;, &#x27;sand&#x27;, &#x27;silt&#x27;,\n",
       "                                                   &#x27;soc&#x27;]),\n",
       "                                                 (&#x27;onehotencoder&#x27;,\n",
       "                                                  OneHotEncoder(),\n",
       "                                                  [&#x27;SOURCE_SYSTEM_TYPE&#x27;,\n",
       "                                                   &#x27;FIRE_SIZE_CLASS&#x27;])])),\n",
       "                (&#x27;logisticregression&#x27;, LogisticRegression())])</pre><b>In a Jupyter environment, please rerun this cell to show the HTML representation or trust the notebook. <br />On GitHub, the HTML representation is unable to render, please try loading this page with nbviewer.org.</b></div><div class=\"sk-container\" hidden><div class=\"sk-item sk-dashed-wrapped\"><div class=\"sk-label-container\"><div class=\"sk-label sk-toggleable\"><input class=\"sk-toggleable__control sk-hidden--visually\" id=\"sk-estimator-id-1\" type=\"checkbox\" ><label for=\"sk-estimator-id-1\" class=\"sk-toggleable__label sk-toggleable__label-arrow\">Pipeline</label><div class=\"sk-toggleable__content\"><pre>Pipeline(steps=[(&#x27;columntransformer&#x27;,\n",
       "                 ColumnTransformer(remainder=&#x27;passthrough&#x27;,\n",
       "                                   transformers=[(&#x27;standardscaler&#x27;,\n",
       "                                                  StandardScaler(),\n",
       "                                                  [&#x27;duration&#x27;, &#x27;LATITUDE&#x27;,\n",
       "                                                   &#x27;LONGITUDE&#x27;, &#x27;FIRE_SIZE&#x27;,\n",
       "                                                   &#x27;elevation&#x27;, &#x27;bdod&#x27;, &#x27;cec&#x27;,\n",
       "                                                   &#x27;cfvo&#x27;, &#x27;clay&#x27;, &#x27;nitrogen&#x27;,\n",
       "                                                   &#x27;phh2o&#x27;, &#x27;sand&#x27;, &#x27;silt&#x27;,\n",
       "                                                   &#x27;soc&#x27;]),\n",
       "                                                 (&#x27;onehotencoder&#x27;,\n",
       "                                                  OneHotEncoder(),\n",
       "                                                  [&#x27;SOURCE_SYSTEM_TYPE&#x27;,\n",
       "                                                   &#x27;FIRE_SIZE_CLASS&#x27;])])),\n",
       "                (&#x27;logisticregression&#x27;, LogisticRegression())])</pre></div></div></div><div class=\"sk-serial\"><div class=\"sk-item sk-dashed-wrapped\"><div class=\"sk-label-container\"><div class=\"sk-label sk-toggleable\"><input class=\"sk-toggleable__control sk-hidden--visually\" id=\"sk-estimator-id-2\" type=\"checkbox\" ><label for=\"sk-estimator-id-2\" class=\"sk-toggleable__label sk-toggleable__label-arrow\">columntransformer: ColumnTransformer</label><div class=\"sk-toggleable__content\"><pre>ColumnTransformer(remainder=&#x27;passthrough&#x27;,\n",
       "                  transformers=[(&#x27;standardscaler&#x27;, StandardScaler(),\n",
       "                                 [&#x27;duration&#x27;, &#x27;LATITUDE&#x27;, &#x27;LONGITUDE&#x27;,\n",
       "                                  &#x27;FIRE_SIZE&#x27;, &#x27;elevation&#x27;, &#x27;bdod&#x27;, &#x27;cec&#x27;,\n",
       "                                  &#x27;cfvo&#x27;, &#x27;clay&#x27;, &#x27;nitrogen&#x27;, &#x27;phh2o&#x27;, &#x27;sand&#x27;,\n",
       "                                  &#x27;silt&#x27;, &#x27;soc&#x27;]),\n",
       "                                (&#x27;onehotencoder&#x27;, OneHotEncoder(),\n",
       "                                 [&#x27;SOURCE_SYSTEM_TYPE&#x27;, &#x27;FIRE_SIZE_CLASS&#x27;])])</pre></div></div></div><div class=\"sk-parallel\"><div class=\"sk-parallel-item\"><div class=\"sk-item\"><div class=\"sk-label-container\"><div class=\"sk-label sk-toggleable\"><input class=\"sk-toggleable__control sk-hidden--visually\" id=\"sk-estimator-id-3\" type=\"checkbox\" ><label for=\"sk-estimator-id-3\" class=\"sk-toggleable__label sk-toggleable__label-arrow\">standardscaler</label><div class=\"sk-toggleable__content\"><pre>[&#x27;duration&#x27;, &#x27;LATITUDE&#x27;, &#x27;LONGITUDE&#x27;, &#x27;FIRE_SIZE&#x27;, &#x27;elevation&#x27;, &#x27;bdod&#x27;, &#x27;cec&#x27;, &#x27;cfvo&#x27;, &#x27;clay&#x27;, &#x27;nitrogen&#x27;, &#x27;phh2o&#x27;, &#x27;sand&#x27;, &#x27;silt&#x27;, &#x27;soc&#x27;]</pre></div></div></div><div class=\"sk-serial\"><div class=\"sk-item\"><div class=\"sk-estimator sk-toggleable\"><input class=\"sk-toggleable__control sk-hidden--visually\" id=\"sk-estimator-id-4\" type=\"checkbox\" ><label for=\"sk-estimator-id-4\" class=\"sk-toggleable__label sk-toggleable__label-arrow\">StandardScaler</label><div class=\"sk-toggleable__content\"><pre>StandardScaler()</pre></div></div></div></div></div></div><div class=\"sk-parallel-item\"><div class=\"sk-item\"><div class=\"sk-label-container\"><div class=\"sk-label sk-toggleable\"><input class=\"sk-toggleable__control sk-hidden--visually\" id=\"sk-estimator-id-5\" type=\"checkbox\" ><label for=\"sk-estimator-id-5\" class=\"sk-toggleable__label sk-toggleable__label-arrow\">onehotencoder</label><div class=\"sk-toggleable__content\"><pre>[&#x27;SOURCE_SYSTEM_TYPE&#x27;, &#x27;FIRE_SIZE_CLASS&#x27;]</pre></div></div></div><div class=\"sk-serial\"><div class=\"sk-item\"><div class=\"sk-estimator sk-toggleable\"><input class=\"sk-toggleable__control sk-hidden--visually\" id=\"sk-estimator-id-6\" type=\"checkbox\" ><label for=\"sk-estimator-id-6\" class=\"sk-toggleable__label sk-toggleable__label-arrow\">OneHotEncoder</label><div class=\"sk-toggleable__content\"><pre>OneHotEncoder()</pre></div></div></div></div></div></div><div class=\"sk-parallel-item\"><div class=\"sk-item\"><div class=\"sk-label-container\"><div class=\"sk-label sk-toggleable\"><input class=\"sk-toggleable__control sk-hidden--visually\" id=\"sk-estimator-id-7\" type=\"checkbox\" ><label for=\"sk-estimator-id-7\" class=\"sk-toggleable__label sk-toggleable__label-arrow\">remainder</label><div class=\"sk-toggleable__content\"><pre>[]</pre></div></div></div><div class=\"sk-serial\"><div class=\"sk-item\"><div class=\"sk-estimator sk-toggleable\"><input class=\"sk-toggleable__control sk-hidden--visually\" id=\"sk-estimator-id-8\" type=\"checkbox\" ><label for=\"sk-estimator-id-8\" class=\"sk-toggleable__label sk-toggleable__label-arrow\">passthrough</label><div class=\"sk-toggleable__content\"><pre>passthrough</pre></div></div></div></div></div></div></div></div><div class=\"sk-item\"><div class=\"sk-estimator sk-toggleable\"><input class=\"sk-toggleable__control sk-hidden--visually\" id=\"sk-estimator-id-9\" type=\"checkbox\" ><label for=\"sk-estimator-id-9\" class=\"sk-toggleable__label sk-toggleable__label-arrow\">LogisticRegression</label><div class=\"sk-toggleable__content\"><pre>LogisticRegression()</pre></div></div></div></div></div></div></div>"
      ],
      "text/plain": [
       "Pipeline(steps=[('columntransformer',\n",
       "                 ColumnTransformer(remainder='passthrough',\n",
       "                                   transformers=[('standardscaler',\n",
       "                                                  StandardScaler(),\n",
       "                                                  ['duration', 'LATITUDE',\n",
       "                                                   'LONGITUDE', 'FIRE_SIZE',\n",
       "                                                   'elevation', 'bdod', 'cec',\n",
       "                                                   'cfvo', 'clay', 'nitrogen',\n",
       "                                                   'phh2o', 'sand', 'silt',\n",
       "                                                   'soc']),\n",
       "                                                 ('onehotencoder',\n",
       "                                                  OneHotEncoder(),\n",
       "                                                  ['SOURCE_SYSTEM_TYPE',\n",
       "                                                   'FIRE_SIZE_CLASS'])])),\n",
       "                ('logisticregression', LogisticRegression())])"
      ]
     },
     "execution_count": 19,
     "metadata": {},
     "output_type": "execute_result"
    }
   ],
   "source": [
    "pipe.fit(X_train, y_train)"
   ]
  },
  {
   "cell_type": "code",
   "execution_count": 26,
   "id": "12597765",
   "metadata": {},
   "outputs": [],
   "source": [
    "y_preds = pipe.predict(X_test)"
   ]
  },
  {
   "cell_type": "code",
   "execution_count": 27,
   "id": "edadf39a",
   "metadata": {},
   "outputs": [
    {
     "data": {
      "text/plain": [
       "array(['Lightning', 'Negligence', 'Infrastructure', 'Arson'], dtype=object)"
      ]
     },
     "execution_count": 27,
     "metadata": {},
     "output_type": "execute_result"
    }
   ],
   "source": [
    "df['STAT_CAUSE_DESCR'].unique()"
   ]
  },
  {
   "cell_type": "code",
   "execution_count": 28,
   "id": "4854d4b3",
   "metadata": {},
   "outputs": [],
   "source": [
    "df_dummies = pd.get_dummies(new_df, drop_first = True)"
   ]
  },
  {
   "cell_type": "code",
   "execution_count": 30,
   "id": "e0d03cc8",
   "metadata": {},
   "outputs": [],
   "source": [
    "with open('pickles/df.pkl', 'rb') as f:\n",
    "    df_final = pickle.load(f)"
   ]
  },
  {
   "cell_type": "code",
   "execution_count": 31,
   "id": "48944910",
   "metadata": {},
   "outputs": [
    {
     "data": {
      "text/html": [
       "<div>\n",
       "<style scoped>\n",
       "    .dataframe tbody tr th:only-of-type {\n",
       "        vertical-align: middle;\n",
       "    }\n",
       "\n",
       "    .dataframe tbody tr th {\n",
       "        vertical-align: top;\n",
       "    }\n",
       "\n",
       "    .dataframe thead th {\n",
       "        text-align: right;\n",
       "    }\n",
       "</style>\n",
       "<table border=\"1\" class=\"dataframe\">\n",
       "  <thead>\n",
       "    <tr style=\"text-align: right;\">\n",
       "      <th></th>\n",
       "      <th>DISCOVERY_DOY</th>\n",
       "      <th>STAT_CAUSE_DESCR</th>\n",
       "      <th>STATE</th>\n",
       "      <th>SOURCE_SYSTEM_TYPE</th>\n",
       "      <th>duration</th>\n",
       "      <th>FIRE_SIZE_CLASS</th>\n",
       "      <th>LATITUDE</th>\n",
       "      <th>LONGITUDE</th>\n",
       "      <th>SOURCE_REPORTING_UNIT_NAME</th>\n",
       "      <th>FIRE_YEAR</th>\n",
       "      <th>...</th>\n",
       "      <th>elevation</th>\n",
       "      <th>bdod</th>\n",
       "      <th>cec</th>\n",
       "      <th>cfvo</th>\n",
       "      <th>clay</th>\n",
       "      <th>nitrogen</th>\n",
       "      <th>phh2o</th>\n",
       "      <th>sand</th>\n",
       "      <th>silt</th>\n",
       "      <th>soc</th>\n",
       "    </tr>\n",
       "  </thead>\n",
       "  <tbody>\n",
       "    <tr>\n",
       "      <th>1</th>\n",
       "      <td>133</td>\n",
       "      <td>Lightning</td>\n",
       "      <td>CA</td>\n",
       "      <td>FED</td>\n",
       "      <td>0.0</td>\n",
       "      <td>A</td>\n",
       "      <td>38.933056</td>\n",
       "      <td>-120.404444</td>\n",
       "      <td>Eldorado National Forest</td>\n",
       "      <td>2004</td>\n",
       "      <td>...</td>\n",
       "      <td>1842</td>\n",
       "      <td>102.0</td>\n",
       "      <td>335.0</td>\n",
       "      <td>246.0</td>\n",
       "      <td>140.0</td>\n",
       "      <td>466.0</td>\n",
       "      <td>58.0</td>\n",
       "      <td>550.0</td>\n",
       "      <td>309.0</td>\n",
       "      <td>741.0</td>\n",
       "    </tr>\n",
       "    <tr>\n",
       "      <th>2</th>\n",
       "      <td>152</td>\n",
       "      <td>Negligence</td>\n",
       "      <td>CA</td>\n",
       "      <td>FED</td>\n",
       "      <td>0.0</td>\n",
       "      <td>A</td>\n",
       "      <td>38.984167</td>\n",
       "      <td>-120.735556</td>\n",
       "      <td>Eldorado National Forest</td>\n",
       "      <td>2004</td>\n",
       "      <td>...</td>\n",
       "      <td>1067</td>\n",
       "      <td>119.0</td>\n",
       "      <td>213.0</td>\n",
       "      <td>137.0</td>\n",
       "      <td>244.0</td>\n",
       "      <td>343.0</td>\n",
       "      <td>58.0</td>\n",
       "      <td>331.0</td>\n",
       "      <td>425.0</td>\n",
       "      <td>573.0</td>\n",
       "    </tr>\n",
       "    <tr>\n",
       "      <th>3</th>\n",
       "      <td>180</td>\n",
       "      <td>Lightning</td>\n",
       "      <td>CA</td>\n",
       "      <td>FED</td>\n",
       "      <td>5.0</td>\n",
       "      <td>A</td>\n",
       "      <td>38.559167</td>\n",
       "      <td>-119.913333</td>\n",
       "      <td>Eldorado National Forest</td>\n",
       "      <td>2004</td>\n",
       "      <td>...</td>\n",
       "      <td>2365</td>\n",
       "      <td>110.0</td>\n",
       "      <td>129.0</td>\n",
       "      <td>216.0</td>\n",
       "      <td>66.0</td>\n",
       "      <td>201.0</td>\n",
       "      <td>55.0</td>\n",
       "      <td>755.0</td>\n",
       "      <td>179.0</td>\n",
       "      <td>458.0</td>\n",
       "    </tr>\n",
       "    <tr>\n",
       "      <th>4</th>\n",
       "      <td>180</td>\n",
       "      <td>Lightning</td>\n",
       "      <td>CA</td>\n",
       "      <td>FED</td>\n",
       "      <td>5.0</td>\n",
       "      <td>A</td>\n",
       "      <td>38.559167</td>\n",
       "      <td>-119.933056</td>\n",
       "      <td>Eldorado National Forest</td>\n",
       "      <td>2004</td>\n",
       "      <td>...</td>\n",
       "      <td>2316</td>\n",
       "      <td>118.0</td>\n",
       "      <td>137.0</td>\n",
       "      <td>212.0</td>\n",
       "      <td>68.0</td>\n",
       "      <td>156.0</td>\n",
       "      <td>55.0</td>\n",
       "      <td>740.0</td>\n",
       "      <td>192.0</td>\n",
       "      <td>410.0</td>\n",
       "    </tr>\n",
       "    <tr>\n",
       "      <th>5</th>\n",
       "      <td>182</td>\n",
       "      <td>Lightning</td>\n",
       "      <td>CA</td>\n",
       "      <td>FED</td>\n",
       "      <td>1.0</td>\n",
       "      <td>A</td>\n",
       "      <td>38.635278</td>\n",
       "      <td>-120.103611</td>\n",
       "      <td>Eldorado National Forest</td>\n",
       "      <td>2004</td>\n",
       "      <td>...</td>\n",
       "      <td>2541</td>\n",
       "      <td>108.0</td>\n",
       "      <td>204.0</td>\n",
       "      <td>230.0</td>\n",
       "      <td>66.0</td>\n",
       "      <td>283.0</td>\n",
       "      <td>55.0</td>\n",
       "      <td>697.0</td>\n",
       "      <td>237.0</td>\n",
       "      <td>509.0</td>\n",
       "    </tr>\n",
       "  </tbody>\n",
       "</table>\n",
       "<p>5 rows × 21 columns</p>\n",
       "</div>"
      ],
      "text/plain": [
       "   DISCOVERY_DOY STAT_CAUSE_DESCR STATE SOURCE_SYSTEM_TYPE  duration  \\\n",
       "1            133        Lightning    CA                FED       0.0   \n",
       "2            152       Negligence    CA                FED       0.0   \n",
       "3            180        Lightning    CA                FED       5.0   \n",
       "4            180        Lightning    CA                FED       5.0   \n",
       "5            182        Lightning    CA                FED       1.0   \n",
       "\n",
       "  FIRE_SIZE_CLASS   LATITUDE   LONGITUDE SOURCE_REPORTING_UNIT_NAME  \\\n",
       "1               A  38.933056 -120.404444   Eldorado National Forest   \n",
       "2               A  38.984167 -120.735556   Eldorado National Forest   \n",
       "3               A  38.559167 -119.913333   Eldorado National Forest   \n",
       "4               A  38.559167 -119.933056   Eldorado National Forest   \n",
       "5               A  38.635278 -120.103611   Eldorado National Forest   \n",
       "\n",
       "   FIRE_YEAR  ...  elevation   bdod    cec   cfvo   clay  nitrogen  phh2o  \\\n",
       "1       2004  ...       1842  102.0  335.0  246.0  140.0     466.0   58.0   \n",
       "2       2004  ...       1067  119.0  213.0  137.0  244.0     343.0   58.0   \n",
       "3       2004  ...       2365  110.0  129.0  216.0   66.0     201.0   55.0   \n",
       "4       2004  ...       2316  118.0  137.0  212.0   68.0     156.0   55.0   \n",
       "5       2004  ...       2541  108.0  204.0  230.0   66.0     283.0   55.0   \n",
       "\n",
       "    sand   silt    soc  \n",
       "1  550.0  309.0  741.0  \n",
       "2  331.0  425.0  573.0  \n",
       "3  755.0  179.0  458.0  \n",
       "4  740.0  192.0  410.0  \n",
       "5  697.0  237.0  509.0  \n",
       "\n",
       "[5 rows x 21 columns]"
      ]
     },
     "execution_count": 31,
     "metadata": {},
     "output_type": "execute_result"
    }
   ],
   "source": [
    "df_final.head()"
   ]
  },
  {
   "cell_type": "code",
   "execution_count": 32,
   "id": "c19a2734",
   "metadata": {},
   "outputs": [
    {
     "data": {
      "text/plain": [
       "Lightning         19825\n",
       "Negligence        13595\n",
       "Infrastructure     9829\n",
       "Arson              8957\n",
       "Name: STAT_CAUSE_DESCR, dtype: int64"
      ]
     },
     "execution_count": 32,
     "metadata": {},
     "output_type": "execute_result"
    }
   ],
   "source": [
    "df_final['STAT_CAUSE_DESCR'].value_counts()"
   ]
  },
  {
   "cell_type": "code",
   "execution_count": 33,
   "id": "1fc65017",
   "metadata": {},
   "outputs": [],
   "source": [
    "lb = LabelEncoder()\n",
    "df_final['status_cause_labels'] = lb.fit_transform(df_final['STAT_CAUSE_DESCR'])"
   ]
  },
  {
   "cell_type": "code",
   "execution_count": 34,
   "id": "f2ba5427",
   "metadata": {},
   "outputs": [],
   "source": [
    "y = df_final['status_cause_labels']"
   ]
  },
  {
   "cell_type": "code",
   "execution_count": 35,
   "id": "33f9c7b1",
   "metadata": {},
   "outputs": [
    {
     "data": {
      "text/plain": [
       "2    19825\n",
       "3    13595\n",
       "1     9829\n",
       "0     8957\n",
       "Name: status_cause_labels, dtype: int64"
      ]
     },
     "execution_count": 35,
     "metadata": {},
     "output_type": "execute_result"
    }
   ],
   "source": [
    "df_final['status_cause_labels'].value_counts()"
   ]
  },
  {
   "cell_type": "code",
   "execution_count": 36,
   "id": "8f5decab",
   "metadata": {},
   "outputs": [],
   "source": [
    "cf_labels = ['Arson', 'Infrastructure', 'Negligence', 'Negligence']"
   ]
  },
  {
   "cell_type": "code",
   "execution_count": 37,
   "id": "c4ce4d6a",
   "metadata": {},
   "outputs": [],
   "source": [
    "df_final.drop(columns = ['STAT_CAUSE_DESCR', 'STATE', 'SOURCE_REPORTING_UNIT_NAME', \n",
    "                      'DISCOVERY_DOY', 'FIRE_YEAR', 'FIRE_SIZE_CLASS'], axis = 1, inplace = True)"
   ]
  },
  {
   "cell_type": "code",
   "execution_count": 38,
   "id": "eead0096",
   "metadata": {},
   "outputs": [
    {
     "data": {
      "text/html": [
       "<div>\n",
       "<style scoped>\n",
       "    .dataframe tbody tr th:only-of-type {\n",
       "        vertical-align: middle;\n",
       "    }\n",
       "\n",
       "    .dataframe tbody tr th {\n",
       "        vertical-align: top;\n",
       "    }\n",
       "\n",
       "    .dataframe thead th {\n",
       "        text-align: right;\n",
       "    }\n",
       "</style>\n",
       "<table border=\"1\" class=\"dataframe\">\n",
       "  <thead>\n",
       "    <tr style=\"text-align: right;\">\n",
       "      <th></th>\n",
       "      <th>SOURCE_SYSTEM_TYPE</th>\n",
       "      <th>duration</th>\n",
       "      <th>LATITUDE</th>\n",
       "      <th>LONGITUDE</th>\n",
       "      <th>FIRE_SIZE</th>\n",
       "      <th>elevation</th>\n",
       "      <th>bdod</th>\n",
       "      <th>cec</th>\n",
       "      <th>cfvo</th>\n",
       "      <th>clay</th>\n",
       "      <th>nitrogen</th>\n",
       "      <th>phh2o</th>\n",
       "      <th>sand</th>\n",
       "      <th>silt</th>\n",
       "      <th>soc</th>\n",
       "      <th>status_cause_labels</th>\n",
       "    </tr>\n",
       "  </thead>\n",
       "  <tbody>\n",
       "    <tr>\n",
       "      <th>1</th>\n",
       "      <td>FED</td>\n",
       "      <td>0.0</td>\n",
       "      <td>38.933056</td>\n",
       "      <td>-120.404444</td>\n",
       "      <td>0.25</td>\n",
       "      <td>1842</td>\n",
       "      <td>102.0</td>\n",
       "      <td>335.0</td>\n",
       "      <td>246.0</td>\n",
       "      <td>140.0</td>\n",
       "      <td>466.0</td>\n",
       "      <td>58.0</td>\n",
       "      <td>550.0</td>\n",
       "      <td>309.0</td>\n",
       "      <td>741.0</td>\n",
       "      <td>2</td>\n",
       "    </tr>\n",
       "    <tr>\n",
       "      <th>2</th>\n",
       "      <td>FED</td>\n",
       "      <td>0.0</td>\n",
       "      <td>38.984167</td>\n",
       "      <td>-120.735556</td>\n",
       "      <td>0.10</td>\n",
       "      <td>1067</td>\n",
       "      <td>119.0</td>\n",
       "      <td>213.0</td>\n",
       "      <td>137.0</td>\n",
       "      <td>244.0</td>\n",
       "      <td>343.0</td>\n",
       "      <td>58.0</td>\n",
       "      <td>331.0</td>\n",
       "      <td>425.0</td>\n",
       "      <td>573.0</td>\n",
       "      <td>3</td>\n",
       "    </tr>\n",
       "    <tr>\n",
       "      <th>3</th>\n",
       "      <td>FED</td>\n",
       "      <td>5.0</td>\n",
       "      <td>38.559167</td>\n",
       "      <td>-119.913333</td>\n",
       "      <td>0.10</td>\n",
       "      <td>2365</td>\n",
       "      <td>110.0</td>\n",
       "      <td>129.0</td>\n",
       "      <td>216.0</td>\n",
       "      <td>66.0</td>\n",
       "      <td>201.0</td>\n",
       "      <td>55.0</td>\n",
       "      <td>755.0</td>\n",
       "      <td>179.0</td>\n",
       "      <td>458.0</td>\n",
       "      <td>2</td>\n",
       "    </tr>\n",
       "    <tr>\n",
       "      <th>4</th>\n",
       "      <td>FED</td>\n",
       "      <td>5.0</td>\n",
       "      <td>38.559167</td>\n",
       "      <td>-119.933056</td>\n",
       "      <td>0.10</td>\n",
       "      <td>2316</td>\n",
       "      <td>118.0</td>\n",
       "      <td>137.0</td>\n",
       "      <td>212.0</td>\n",
       "      <td>68.0</td>\n",
       "      <td>156.0</td>\n",
       "      <td>55.0</td>\n",
       "      <td>740.0</td>\n",
       "      <td>192.0</td>\n",
       "      <td>410.0</td>\n",
       "      <td>2</td>\n",
       "    </tr>\n",
       "    <tr>\n",
       "      <th>5</th>\n",
       "      <td>FED</td>\n",
       "      <td>1.0</td>\n",
       "      <td>38.635278</td>\n",
       "      <td>-120.103611</td>\n",
       "      <td>0.10</td>\n",
       "      <td>2541</td>\n",
       "      <td>108.0</td>\n",
       "      <td>204.0</td>\n",
       "      <td>230.0</td>\n",
       "      <td>66.0</td>\n",
       "      <td>283.0</td>\n",
       "      <td>55.0</td>\n",
       "      <td>697.0</td>\n",
       "      <td>237.0</td>\n",
       "      <td>509.0</td>\n",
       "      <td>2</td>\n",
       "    </tr>\n",
       "  </tbody>\n",
       "</table>\n",
       "</div>"
      ],
      "text/plain": [
       "  SOURCE_SYSTEM_TYPE  duration   LATITUDE   LONGITUDE  FIRE_SIZE  elevation  \\\n",
       "1                FED       0.0  38.933056 -120.404444       0.25       1842   \n",
       "2                FED       0.0  38.984167 -120.735556       0.10       1067   \n",
       "3                FED       5.0  38.559167 -119.913333       0.10       2365   \n",
       "4                FED       5.0  38.559167 -119.933056       0.10       2316   \n",
       "5                FED       1.0  38.635278 -120.103611       0.10       2541   \n",
       "\n",
       "    bdod    cec   cfvo   clay  nitrogen  phh2o   sand   silt    soc  \\\n",
       "1  102.0  335.0  246.0  140.0     466.0   58.0  550.0  309.0  741.0   \n",
       "2  119.0  213.0  137.0  244.0     343.0   58.0  331.0  425.0  573.0   \n",
       "3  110.0  129.0  216.0   66.0     201.0   55.0  755.0  179.0  458.0   \n",
       "4  118.0  137.0  212.0   68.0     156.0   55.0  740.0  192.0  410.0   \n",
       "5  108.0  204.0  230.0   66.0     283.0   55.0  697.0  237.0  509.0   \n",
       "\n",
       "   status_cause_labels  \n",
       "1                    2  \n",
       "2                    3  \n",
       "3                    2  \n",
       "4                    2  \n",
       "5                    2  "
      ]
     },
     "execution_count": 38,
     "metadata": {},
     "output_type": "execute_result"
    }
   ],
   "source": [
    "df_final.head()"
   ]
  },
  {
   "cell_type": "code",
   "execution_count": 39,
   "id": "28d0f0a7",
   "metadata": {},
   "outputs": [],
   "source": [
    "final_dummies = pd.get_dummies(df_final, drop_first = True)"
   ]
  },
  {
   "cell_type": "code",
   "execution_count": 40,
   "id": "ede5005f",
   "metadata": {},
   "outputs": [
    {
     "data": {
      "text/html": [
       "<div>\n",
       "<style scoped>\n",
       "    .dataframe tbody tr th:only-of-type {\n",
       "        vertical-align: middle;\n",
       "    }\n",
       "\n",
       "    .dataframe tbody tr th {\n",
       "        vertical-align: top;\n",
       "    }\n",
       "\n",
       "    .dataframe thead th {\n",
       "        text-align: right;\n",
       "    }\n",
       "</style>\n",
       "<table border=\"1\" class=\"dataframe\">\n",
       "  <thead>\n",
       "    <tr style=\"text-align: right;\">\n",
       "      <th></th>\n",
       "      <th>duration</th>\n",
       "      <th>LATITUDE</th>\n",
       "      <th>LONGITUDE</th>\n",
       "      <th>FIRE_SIZE</th>\n",
       "      <th>elevation</th>\n",
       "      <th>bdod</th>\n",
       "      <th>cec</th>\n",
       "      <th>cfvo</th>\n",
       "      <th>clay</th>\n",
       "      <th>nitrogen</th>\n",
       "      <th>phh2o</th>\n",
       "      <th>sand</th>\n",
       "      <th>silt</th>\n",
       "      <th>soc</th>\n",
       "      <th>status_cause_labels</th>\n",
       "      <th>SOURCE_SYSTEM_TYPE_INTERAGCY</th>\n",
       "      <th>SOURCE_SYSTEM_TYPE_NONFED</th>\n",
       "    </tr>\n",
       "  </thead>\n",
       "  <tbody>\n",
       "    <tr>\n",
       "      <th>1</th>\n",
       "      <td>0.0</td>\n",
       "      <td>38.933056</td>\n",
       "      <td>-120.404444</td>\n",
       "      <td>0.25</td>\n",
       "      <td>1842</td>\n",
       "      <td>102.0</td>\n",
       "      <td>335.0</td>\n",
       "      <td>246.0</td>\n",
       "      <td>140.0</td>\n",
       "      <td>466.0</td>\n",
       "      <td>58.0</td>\n",
       "      <td>550.0</td>\n",
       "      <td>309.0</td>\n",
       "      <td>741.0</td>\n",
       "      <td>2</td>\n",
       "      <td>0</td>\n",
       "      <td>0</td>\n",
       "    </tr>\n",
       "    <tr>\n",
       "      <th>2</th>\n",
       "      <td>0.0</td>\n",
       "      <td>38.984167</td>\n",
       "      <td>-120.735556</td>\n",
       "      <td>0.10</td>\n",
       "      <td>1067</td>\n",
       "      <td>119.0</td>\n",
       "      <td>213.0</td>\n",
       "      <td>137.0</td>\n",
       "      <td>244.0</td>\n",
       "      <td>343.0</td>\n",
       "      <td>58.0</td>\n",
       "      <td>331.0</td>\n",
       "      <td>425.0</td>\n",
       "      <td>573.0</td>\n",
       "      <td>3</td>\n",
       "      <td>0</td>\n",
       "      <td>0</td>\n",
       "    </tr>\n",
       "    <tr>\n",
       "      <th>3</th>\n",
       "      <td>5.0</td>\n",
       "      <td>38.559167</td>\n",
       "      <td>-119.913333</td>\n",
       "      <td>0.10</td>\n",
       "      <td>2365</td>\n",
       "      <td>110.0</td>\n",
       "      <td>129.0</td>\n",
       "      <td>216.0</td>\n",
       "      <td>66.0</td>\n",
       "      <td>201.0</td>\n",
       "      <td>55.0</td>\n",
       "      <td>755.0</td>\n",
       "      <td>179.0</td>\n",
       "      <td>458.0</td>\n",
       "      <td>2</td>\n",
       "      <td>0</td>\n",
       "      <td>0</td>\n",
       "    </tr>\n",
       "    <tr>\n",
       "      <th>4</th>\n",
       "      <td>5.0</td>\n",
       "      <td>38.559167</td>\n",
       "      <td>-119.933056</td>\n",
       "      <td>0.10</td>\n",
       "      <td>2316</td>\n",
       "      <td>118.0</td>\n",
       "      <td>137.0</td>\n",
       "      <td>212.0</td>\n",
       "      <td>68.0</td>\n",
       "      <td>156.0</td>\n",
       "      <td>55.0</td>\n",
       "      <td>740.0</td>\n",
       "      <td>192.0</td>\n",
       "      <td>410.0</td>\n",
       "      <td>2</td>\n",
       "      <td>0</td>\n",
       "      <td>0</td>\n",
       "    </tr>\n",
       "    <tr>\n",
       "      <th>5</th>\n",
       "      <td>1.0</td>\n",
       "      <td>38.635278</td>\n",
       "      <td>-120.103611</td>\n",
       "      <td>0.10</td>\n",
       "      <td>2541</td>\n",
       "      <td>108.0</td>\n",
       "      <td>204.0</td>\n",
       "      <td>230.0</td>\n",
       "      <td>66.0</td>\n",
       "      <td>283.0</td>\n",
       "      <td>55.0</td>\n",
       "      <td>697.0</td>\n",
       "      <td>237.0</td>\n",
       "      <td>509.0</td>\n",
       "      <td>2</td>\n",
       "      <td>0</td>\n",
       "      <td>0</td>\n",
       "    </tr>\n",
       "  </tbody>\n",
       "</table>\n",
       "</div>"
      ],
      "text/plain": [
       "   duration   LATITUDE   LONGITUDE  FIRE_SIZE  elevation   bdod    cec   cfvo  \\\n",
       "1       0.0  38.933056 -120.404444       0.25       1842  102.0  335.0  246.0   \n",
       "2       0.0  38.984167 -120.735556       0.10       1067  119.0  213.0  137.0   \n",
       "3       5.0  38.559167 -119.913333       0.10       2365  110.0  129.0  216.0   \n",
       "4       5.0  38.559167 -119.933056       0.10       2316  118.0  137.0  212.0   \n",
       "5       1.0  38.635278 -120.103611       0.10       2541  108.0  204.0  230.0   \n",
       "\n",
       "    clay  nitrogen  phh2o   sand   silt    soc  status_cause_labels  \\\n",
       "1  140.0     466.0   58.0  550.0  309.0  741.0                    2   \n",
       "2  244.0     343.0   58.0  331.0  425.0  573.0                    3   \n",
       "3   66.0     201.0   55.0  755.0  179.0  458.0                    2   \n",
       "4   68.0     156.0   55.0  740.0  192.0  410.0                    2   \n",
       "5   66.0     283.0   55.0  697.0  237.0  509.0                    2   \n",
       "\n",
       "   SOURCE_SYSTEM_TYPE_INTERAGCY  SOURCE_SYSTEM_TYPE_NONFED  \n",
       "1                             0                          0  \n",
       "2                             0                          0  \n",
       "3                             0                          0  \n",
       "4                             0                          0  \n",
       "5                             0                          0  "
      ]
     },
     "execution_count": 40,
     "metadata": {},
     "output_type": "execute_result"
    }
   ],
   "source": [
    "final_dummies.head()"
   ]
  },
  {
   "cell_type": "code",
   "execution_count": 41,
   "id": "475083c3",
   "metadata": {},
   "outputs": [],
   "source": [
    "final_dummies.drop(columns = 'status_cause_labels', inplace = True)"
   ]
  },
  {
   "cell_type": "code",
   "execution_count": 42,
   "id": "23ffbb52",
   "metadata": {},
   "outputs": [],
   "source": [
    "X = final_dummies.copy()"
   ]
  },
  {
   "cell_type": "code",
   "execution_count": 43,
   "id": "52a06f96",
   "metadata": {},
   "outputs": [],
   "source": [
    "#Train Test Split\n",
    "X_train, X_test, y_train, y_test = train_test_split(X,y,\n",
    "                                                    test_size = 0.3,\n",
    "                                                    random_state = 42, stratify = y)"
   ]
  },
  {
   "cell_type": "code",
   "execution_count": 44,
   "id": "b2ba906a",
   "metadata": {},
   "outputs": [],
   "source": [
    "rf_params = {\n",
    "    'n_estimators': [100, 150, 200],\n",
    "    'max_depth': [None, 1, 2, 3],\n",
    "}"
   ]
  },
  {
   "cell_type": "code",
   "execution_count": 45,
   "id": "98918065",
   "metadata": {},
   "outputs": [],
   "source": [
    "rf = RandomForestClassifier()"
   ]
  },
  {
   "cell_type": "code",
   "execution_count": 48,
   "id": "0305f5bb",
   "metadata": {},
   "outputs": [
    {
     "name": "stdout",
     "output_type": "stream",
     "text": [
      "0.6629542661449475\n"
     ]
    },
    {
     "data": {
      "text/plain": [
       "{'max_depth': None, 'n_estimators': 200}"
      ]
     },
     "execution_count": 48,
     "metadata": {},
     "output_type": "execute_result"
    }
   ],
   "source": [
    "gs = GridSearchCV(rf,\n",
    "                  param_grid = rf_params, # what object are we optimizing?\n",
    "                  # what parameters values are we searching?\n",
    "                  cv = 5)\n",
    "gs.fit(X_train, y_train)\n",
    "print(gs.best_score_)\n",
    "gs.best_params_"
   ]
  },
  {
   "cell_type": "code",
   "execution_count": 49,
   "id": "1a6d1bb8",
   "metadata": {},
   "outputs": [],
   "source": [
    "final_dummies_1 = final_dummies.drop(columns = ['FIRE_SIZE', 'bdod', 'sand', 'silt', 'soc'])"
   ]
  },
  {
   "cell_type": "code",
   "execution_count": 50,
   "id": "e9268890",
   "metadata": {},
   "outputs": [],
   "source": [
    "X = final_dummies_1.copy()"
   ]
  },
  {
   "cell_type": "code",
   "execution_count": 51,
   "id": "f8b77654",
   "metadata": {},
   "outputs": [
    {
     "data": {
      "text/plain": [
       "(52206, 11)"
      ]
     },
     "execution_count": 51,
     "metadata": {},
     "output_type": "execute_result"
    }
   ],
   "source": [
    "X.shape"
   ]
  },
  {
   "cell_type": "code",
   "execution_count": 52,
   "id": "40d88b21",
   "metadata": {},
   "outputs": [],
   "source": [
    "#Train Test Split\n",
    "X_train, X_test, y_train, y_test = train_test_split(X,y,\n",
    "                                                    test_size = 0.3,\n",
    "                                                    random_state = 42, stratify = y)"
   ]
  },
  {
   "cell_type": "code",
   "execution_count": 53,
   "id": "daa12416",
   "metadata": {},
   "outputs": [],
   "source": [
    "#XGBoost Classifier\n",
    "xgb = XGBClassifier()"
   ]
  },
  {
   "cell_type": "code",
   "execution_count": 54,
   "id": "91a7413e",
   "metadata": {},
   "outputs": [],
   "source": [
    "#Defining Parameters\n",
    "xgb_params = {\n",
    "    'n_estimators': [100, 150, 200],\n",
    "    'max_depth': [None, 1]\n",
    "}"
   ]
  },
  {
   "cell_type": "code",
   "execution_count": 55,
   "id": "0550cb5b",
   "metadata": {},
   "outputs": [],
   "source": [
    "#GridsearchCV\n",
    "gs_xgb = GridSearchCV(xgb, # what object are we optimizing?\n",
    "                  param_grid = xgb_params,# what parameters values are we searching?\n",
    "                  cv = 5)"
   ]
  },
  {
   "cell_type": "code",
   "execution_count": 56,
   "id": "cf962d42",
   "metadata": {},
   "outputs": [
    {
     "data": {
      "text/html": [
       "<style>#sk-container-id-2 {color: black;background-color: white;}#sk-container-id-2 pre{padding: 0;}#sk-container-id-2 div.sk-toggleable {background-color: white;}#sk-container-id-2 label.sk-toggleable__label {cursor: pointer;display: block;width: 100%;margin-bottom: 0;padding: 0.3em;box-sizing: border-box;text-align: center;}#sk-container-id-2 label.sk-toggleable__label-arrow:before {content: \"▸\";float: left;margin-right: 0.25em;color: #696969;}#sk-container-id-2 label.sk-toggleable__label-arrow:hover:before {color: black;}#sk-container-id-2 div.sk-estimator:hover label.sk-toggleable__label-arrow:before {color: black;}#sk-container-id-2 div.sk-toggleable__content {max-height: 0;max-width: 0;overflow: hidden;text-align: left;background-color: #f0f8ff;}#sk-container-id-2 div.sk-toggleable__content pre {margin: 0.2em;color: black;border-radius: 0.25em;background-color: #f0f8ff;}#sk-container-id-2 input.sk-toggleable__control:checked~div.sk-toggleable__content {max-height: 200px;max-width: 100%;overflow: auto;}#sk-container-id-2 input.sk-toggleable__control:checked~label.sk-toggleable__label-arrow:before {content: \"▾\";}#sk-container-id-2 div.sk-estimator input.sk-toggleable__control:checked~label.sk-toggleable__label {background-color: #d4ebff;}#sk-container-id-2 div.sk-label input.sk-toggleable__control:checked~label.sk-toggleable__label {background-color: #d4ebff;}#sk-container-id-2 input.sk-hidden--visually {border: 0;clip: rect(1px 1px 1px 1px);clip: rect(1px, 1px, 1px, 1px);height: 1px;margin: -1px;overflow: hidden;padding: 0;position: absolute;width: 1px;}#sk-container-id-2 div.sk-estimator {font-family: monospace;background-color: #f0f8ff;border: 1px dotted black;border-radius: 0.25em;box-sizing: border-box;margin-bottom: 0.5em;}#sk-container-id-2 div.sk-estimator:hover {background-color: #d4ebff;}#sk-container-id-2 div.sk-parallel-item::after {content: \"\";width: 100%;border-bottom: 1px solid gray;flex-grow: 1;}#sk-container-id-2 div.sk-label:hover label.sk-toggleable__label {background-color: #d4ebff;}#sk-container-id-2 div.sk-serial::before {content: \"\";position: absolute;border-left: 1px solid gray;box-sizing: border-box;top: 0;bottom: 0;left: 50%;z-index: 0;}#sk-container-id-2 div.sk-serial {display: flex;flex-direction: column;align-items: center;background-color: white;padding-right: 0.2em;padding-left: 0.2em;position: relative;}#sk-container-id-2 div.sk-item {position: relative;z-index: 1;}#sk-container-id-2 div.sk-parallel {display: flex;align-items: stretch;justify-content: center;background-color: white;position: relative;}#sk-container-id-2 div.sk-item::before, #sk-container-id-2 div.sk-parallel-item::before {content: \"\";position: absolute;border-left: 1px solid gray;box-sizing: border-box;top: 0;bottom: 0;left: 50%;z-index: -1;}#sk-container-id-2 div.sk-parallel-item {display: flex;flex-direction: column;z-index: 1;position: relative;background-color: white;}#sk-container-id-2 div.sk-parallel-item:first-child::after {align-self: flex-end;width: 50%;}#sk-container-id-2 div.sk-parallel-item:last-child::after {align-self: flex-start;width: 50%;}#sk-container-id-2 div.sk-parallel-item:only-child::after {width: 0;}#sk-container-id-2 div.sk-dashed-wrapped {border: 1px dashed gray;margin: 0 0.4em 0.5em 0.4em;box-sizing: border-box;padding-bottom: 0.4em;background-color: white;}#sk-container-id-2 div.sk-label label {font-family: monospace;font-weight: bold;display: inline-block;line-height: 1.2em;}#sk-container-id-2 div.sk-label-container {text-align: center;}#sk-container-id-2 div.sk-container {/* jupyter's `normalize.less` sets `[hidden] { display: none; }` but bootstrap.min.css set `[hidden] { display: none !important; }` so we also need the `!important` here to be able to override the default hidden behavior on the sphinx rendered scikit-learn.org. See: https://github.com/scikit-learn/scikit-learn/issues/21755 */display: inline-block !important;position: relative;}#sk-container-id-2 div.sk-text-repr-fallback {display: none;}</style><div id=\"sk-container-id-2\" class=\"sk-top-container\"><div class=\"sk-text-repr-fallback\"><pre>GridSearchCV(cv=5,\n",
       "             estimator=XGBClassifier(base_score=None, booster=None,\n",
       "                                     callbacks=None, colsample_bylevel=None,\n",
       "                                     colsample_bynode=None,\n",
       "                                     colsample_bytree=None,\n",
       "                                     early_stopping_rounds=None,\n",
       "                                     enable_categorical=False, eval_metric=None,\n",
       "                                     feature_types=None, gamma=None,\n",
       "                                     gpu_id=None, grow_policy=None,\n",
       "                                     importance_type=None,\n",
       "                                     interaction_constraints=None,\n",
       "                                     learning_rate=None, max_bin=None,\n",
       "                                     max_cat_threshold=None,\n",
       "                                     max_cat_to_onehot=None,\n",
       "                                     max_delta_step=None, max_depth=None,\n",
       "                                     max_leaves=None, min_child_weight=None,\n",
       "                                     missing=nan, monotone_constraints=None,\n",
       "                                     n_estimators=100, n_jobs=None,\n",
       "                                     num_parallel_tree=None, predictor=None,\n",
       "                                     random_state=None, ...),\n",
       "             param_grid={&#x27;max_depth&#x27;: [None, 1],\n",
       "                         &#x27;n_estimators&#x27;: [100, 150, 200]})</pre><b>In a Jupyter environment, please rerun this cell to show the HTML representation or trust the notebook. <br />On GitHub, the HTML representation is unable to render, please try loading this page with nbviewer.org.</b></div><div class=\"sk-container\" hidden><div class=\"sk-item sk-dashed-wrapped\"><div class=\"sk-label-container\"><div class=\"sk-label sk-toggleable\"><input class=\"sk-toggleable__control sk-hidden--visually\" id=\"sk-estimator-id-10\" type=\"checkbox\" ><label for=\"sk-estimator-id-10\" class=\"sk-toggleable__label sk-toggleable__label-arrow\">GridSearchCV</label><div class=\"sk-toggleable__content\"><pre>GridSearchCV(cv=5,\n",
       "             estimator=XGBClassifier(base_score=None, booster=None,\n",
       "                                     callbacks=None, colsample_bylevel=None,\n",
       "                                     colsample_bynode=None,\n",
       "                                     colsample_bytree=None,\n",
       "                                     early_stopping_rounds=None,\n",
       "                                     enable_categorical=False, eval_metric=None,\n",
       "                                     feature_types=None, gamma=None,\n",
       "                                     gpu_id=None, grow_policy=None,\n",
       "                                     importance_type=None,\n",
       "                                     interaction_constraints=None,\n",
       "                                     learning_rate=None, max_bin=None,\n",
       "                                     max_cat_threshold=None,\n",
       "                                     max_cat_to_onehot=None,\n",
       "                                     max_delta_step=None, max_depth=None,\n",
       "                                     max_leaves=None, min_child_weight=None,\n",
       "                                     missing=nan, monotone_constraints=None,\n",
       "                                     n_estimators=100, n_jobs=None,\n",
       "                                     num_parallel_tree=None, predictor=None,\n",
       "                                     random_state=None, ...),\n",
       "             param_grid={&#x27;max_depth&#x27;: [None, 1],\n",
       "                         &#x27;n_estimators&#x27;: [100, 150, 200]})</pre></div></div></div><div class=\"sk-parallel\"><div class=\"sk-parallel-item\"><div class=\"sk-item\"><div class=\"sk-label-container\"><div class=\"sk-label sk-toggleable\"><input class=\"sk-toggleable__control sk-hidden--visually\" id=\"sk-estimator-id-11\" type=\"checkbox\" ><label for=\"sk-estimator-id-11\" class=\"sk-toggleable__label sk-toggleable__label-arrow\">estimator: XGBClassifier</label><div class=\"sk-toggleable__content\"><pre>XGBClassifier(base_score=None, booster=None, callbacks=None,\n",
       "              colsample_bylevel=None, colsample_bynode=None,\n",
       "              colsample_bytree=None, early_stopping_rounds=None,\n",
       "              enable_categorical=False, eval_metric=None, feature_types=None,\n",
       "              gamma=None, gpu_id=None, grow_policy=None, importance_type=None,\n",
       "              interaction_constraints=None, learning_rate=None, max_bin=None,\n",
       "              max_cat_threshold=None, max_cat_to_onehot=None,\n",
       "              max_delta_step=None, max_depth=None, max_leaves=None,\n",
       "              min_child_weight=None, missing=nan, monotone_constraints=None,\n",
       "              n_estimators=100, n_jobs=None, num_parallel_tree=None,\n",
       "              predictor=None, random_state=None, ...)</pre></div></div></div><div class=\"sk-serial\"><div class=\"sk-item\"><div class=\"sk-estimator sk-toggleable\"><input class=\"sk-toggleable__control sk-hidden--visually\" id=\"sk-estimator-id-12\" type=\"checkbox\" ><label for=\"sk-estimator-id-12\" class=\"sk-toggleable__label sk-toggleable__label-arrow\">XGBClassifier</label><div class=\"sk-toggleable__content\"><pre>XGBClassifier(base_score=None, booster=None, callbacks=None,\n",
       "              colsample_bylevel=None, colsample_bynode=None,\n",
       "              colsample_bytree=None, early_stopping_rounds=None,\n",
       "              enable_categorical=False, eval_metric=None, feature_types=None,\n",
       "              gamma=None, gpu_id=None, grow_policy=None, importance_type=None,\n",
       "              interaction_constraints=None, learning_rate=None, max_bin=None,\n",
       "              max_cat_threshold=None, max_cat_to_onehot=None,\n",
       "              max_delta_step=None, max_depth=None, max_leaves=None,\n",
       "              min_child_weight=None, missing=nan, monotone_constraints=None,\n",
       "              n_estimators=100, n_jobs=None, num_parallel_tree=None,\n",
       "              predictor=None, random_state=None, ...)</pre></div></div></div></div></div></div></div></div></div></div>"
      ],
      "text/plain": [
       "GridSearchCV(cv=5,\n",
       "             estimator=XGBClassifier(base_score=None, booster=None,\n",
       "                                     callbacks=None, colsample_bylevel=None,\n",
       "                                     colsample_bynode=None,\n",
       "                                     colsample_bytree=None,\n",
       "                                     early_stopping_rounds=None,\n",
       "                                     enable_categorical=False, eval_metric=None,\n",
       "                                     feature_types=None, gamma=None,\n",
       "                                     gpu_id=None, grow_policy=None,\n",
       "                                     importance_type=None,\n",
       "                                     interaction_constraints=None,\n",
       "                                     learning_rate=None, max_bin=None,\n",
       "                                     max_cat_threshold=None,\n",
       "                                     max_cat_to_onehot=None,\n",
       "                                     max_delta_step=None, max_depth=None,\n",
       "                                     max_leaves=None, min_child_weight=None,\n",
       "                                     missing=nan, monotone_constraints=None,\n",
       "                                     n_estimators=100, n_jobs=None,\n",
       "                                     num_parallel_tree=None, predictor=None,\n",
       "                                     random_state=None, ...),\n",
       "             param_grid={'max_depth': [None, 1],\n",
       "                         'n_estimators': [100, 150, 200]})"
      ]
     },
     "execution_count": 56,
     "metadata": {},
     "output_type": "execute_result"
    }
   ],
   "source": [
    "#Fitting XGBoost\n",
    "gs_xgb.fit(X_train, y_train)"
   ]
  },
  {
   "cell_type": "code",
   "execution_count": 57,
   "id": "d8431880",
   "metadata": {},
   "outputs": [
    {
     "name": "stdout",
     "output_type": "stream",
     "text": [
      "0.6623520851357576\n",
      "{'max_depth': None, 'n_estimators': 100}\n"
     ]
    }
   ],
   "source": [
    "#Best Score and parametres with XGBoost Model\n",
    "print(gs_xgb.best_score_)\n",
    "print(gs_xgb.best_params_)"
   ]
  },
  {
   "cell_type": "code",
   "execution_count": 58,
   "id": "742c9d74",
   "metadata": {},
   "outputs": [],
   "source": [
    "ss = StandardScaler()\n",
    "X_train_ss = ss.fit_transform(X_train)\n",
    "X_test_ss = ss.transform(X_test)"
   ]
  },
  {
   "cell_type": "code",
   "execution_count": 59,
   "id": "f9729185",
   "metadata": {},
   "outputs": [],
   "source": [
    "pgrid = {\"C\": np.linspace(0.0001, 2, 6)}"
   ]
  },
  {
   "cell_type": "code",
   "execution_count": 60,
   "id": "e90f2db3",
   "metadata": {},
   "outputs": [],
   "source": [
    "# (THREAD) Instantiate and fit a gridsearch model for this SVC!\n",
    "svc = LinearSVC(max_iter= 1000)\n",
    "\n",
    "cv = StratifiedKFold(n_splits=5, shuffle=True, random_state=42)\n",
    "\n",
    "gcv = GridSearchCV(svc, pgrid, cv=cv)\n",
    "gcv.fit(X_train_ss, y_train);"
   ]
  },
  {
   "cell_type": "code",
   "execution_count": 61,
   "id": "fc44747a",
   "metadata": {},
   "outputs": [
    {
     "data": {
      "text/plain": [
       "0.5720775789616285"
      ]
     },
     "execution_count": 61,
     "metadata": {},
     "output_type": "execute_result"
    }
   ],
   "source": [
    "gcv.best_score_"
   ]
  },
  {
   "cell_type": "code",
   "execution_count": 62,
   "id": "50f5ef7c",
   "metadata": {},
   "outputs": [
    {
     "data": {
      "image/png": "[encoded data removed]",
      "text/plain": [
       "<Figure size 640x480 with 1 Axes>"
      ]
     },
     "metadata": {},
     "output_type": "display_data"
    }
   ],
   "source": [
    "# Save cv results as a DataFrame\n",
    "df_svc = pd.DataFrame(gcv.cv_results_)\n",
    "\n",
    "# Visualize how different values of C affect accuracy\n",
    "plt.plot(\"param_C\", \"mean_test_score\", data = df_svc);"
   ]
  },
  {
   "cell_type": "code",
   "execution_count": null,
   "id": "628cfa3b",
   "metadata": {},
   "outputs": [],
   "source": []
  },
  {
   "cell_type": "code",
   "execution_count": null,
   "id": "d1863872",
   "metadata": {},
   "outputs": [],
   "source": []
  }
 ],
 "metadata": {
  "kernelspec": {
   "display_name": "Python 3 (ipykernel)",
   "language": "python",
   "name": "python3"
  },
  "language_info": {
   "codemirror_mode": {
    "name": "ipython",
    "version": 3
   },
   "file_extension": ".py",
   "mimetype": "text/x-python",
   "name": "python",
   "nbconvert_exporter": "python",
   "pygments_lexer": "ipython3",
   "version": "3.9.16"
  }
 },
 "nbformat": 4,
 "nbformat_minor": 5
}
