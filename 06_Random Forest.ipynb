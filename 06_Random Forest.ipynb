{
 "cells": [
  {
   "cell_type": "markdown",
   "id": "caee5526",
   "metadata": {},
   "source": [
    "# Random Forest"
   ]
  },
  {
   "cell_type": "code",
   "execution_count": 1,
   "id": "d3202479",
   "metadata": {},
   "outputs": [],
   "source": [
    "#imports\n",
    "import numpy as np\n",
    "import pandas as pd\n",
    "import matplotlib.pyplot as plt\n",
    "import requests\n",
    "import pickle\n",
    "import time\n",
    "import seaborn as sns\n",
    "\n",
    "from sklearn.preprocessing import StandardScaler\n",
    "from sklearn.model_selection import train_test_split, GridSearchCV\n",
    "from sklearn.ensemble import RandomForestClassifier\n",
    "from sklearn.metrics import confusion_matrix, ConfusionMatrixDisplay\n",
    "\n",
    "pd.set_option('display.max_columns', None)"
   ]
  },
  {
   "cell_type": "markdown",
   "id": "088e7851-56ec-4a8b-abd7-59a1f2723671",
   "metadata": {
    "tags": []
   },
   "source": [
    "# Importing and Merging"
   ]
  },
  {
   "cell_type": "code",
   "execution_count": 2,
   "id": "d773112d-9a89-4ff5-b452-39136c2c0c9c",
   "metadata": {},
   "outputs": [],
   "source": [
    "with open('pickles/df.pkl', 'rb') as f:\n",
    "    df = pickle.load(f)"
   ]
  },
  {
   "cell_type": "markdown",
   "id": "4ef9e8c0-c5c9-4d8f-96e5-2510fcdb1879",
   "metadata": {
    "tags": []
   },
   "source": [
    "### Creating a model"
   ]
  },
  {
   "cell_type": "code",
   "execution_count": 3,
   "id": "342e7eb6-776a-4493-b7bc-ad373607d5aa",
   "metadata": {},
   "outputs": [
    {
     "data": {
      "text/html": [
       "<div>\n",
       "<style scoped>\n",
       "    .dataframe tbody tr th:only-of-type {\n",
       "        vertical-align: middle;\n",
       "    }\n",
       "\n",
       "    .dataframe tbody tr th {\n",
       "        vertical-align: top;\n",
       "    }\n",
       "\n",
       "    .dataframe thead th {\n",
       "        text-align: right;\n",
       "    }\n",
       "</style>\n",
       "<table border=\"1\" class=\"dataframe\">\n",
       "  <thead>\n",
       "    <tr style=\"text-align: right;\">\n",
       "      <th></th>\n",
       "      <th>DISCOVERY_DOY</th>\n",
       "      <th>STAT_CAUSE_DESCR</th>\n",
       "      <th>STATE</th>\n",
       "      <th>SOURCE_SYSTEM_TYPE</th>\n",
       "      <th>duration</th>\n",
       "      <th>FIRE_SIZE_CLASS</th>\n",
       "      <th>LATITUDE</th>\n",
       "      <th>LONGITUDE</th>\n",
       "      <th>SOURCE_REPORTING_UNIT_NAME</th>\n",
       "      <th>FIRE_YEAR</th>\n",
       "      <th>FIRE_SIZE</th>\n",
       "      <th>elevation</th>\n",
       "      <th>bdod</th>\n",
       "      <th>cec</th>\n",
       "      <th>cfvo</th>\n",
       "      <th>clay</th>\n",
       "      <th>nitrogen</th>\n",
       "      <th>phh2o</th>\n",
       "      <th>sand</th>\n",
       "      <th>silt</th>\n",
       "      <th>soc</th>\n",
       "    </tr>\n",
       "  </thead>\n",
       "  <tbody>\n",
       "    <tr>\n",
       "      <th>1</th>\n",
       "      <td>133</td>\n",
       "      <td>Lightning</td>\n",
       "      <td>CA</td>\n",
       "      <td>FED</td>\n",
       "      <td>0.0</td>\n",
       "      <td>A</td>\n",
       "      <td>38.933056</td>\n",
       "      <td>-120.404444</td>\n",
       "      <td>Eldorado National Forest</td>\n",
       "      <td>2004</td>\n",
       "      <td>0.25</td>\n",
       "      <td>1842</td>\n",
       "      <td>102.0</td>\n",
       "      <td>335.0</td>\n",
       "      <td>246.0</td>\n",
       "      <td>140.0</td>\n",
       "      <td>466.0</td>\n",
       "      <td>58.0</td>\n",
       "      <td>550.0</td>\n",
       "      <td>309.0</td>\n",
       "      <td>741.0</td>\n",
       "    </tr>\n",
       "    <tr>\n",
       "      <th>2</th>\n",
       "      <td>152</td>\n",
       "      <td>Negligence</td>\n",
       "      <td>CA</td>\n",
       "      <td>FED</td>\n",
       "      <td>0.0</td>\n",
       "      <td>A</td>\n",
       "      <td>38.984167</td>\n",
       "      <td>-120.735556</td>\n",
       "      <td>Eldorado National Forest</td>\n",
       "      <td>2004</td>\n",
       "      <td>0.10</td>\n",
       "      <td>1067</td>\n",
       "      <td>119.0</td>\n",
       "      <td>213.0</td>\n",
       "      <td>137.0</td>\n",
       "      <td>244.0</td>\n",
       "      <td>343.0</td>\n",
       "      <td>58.0</td>\n",
       "      <td>331.0</td>\n",
       "      <td>425.0</td>\n",
       "      <td>573.0</td>\n",
       "    </tr>\n",
       "  </tbody>\n",
       "</table>\n",
       "</div>"
      ],
      "text/plain": [
       "   DISCOVERY_DOY STAT_CAUSE_DESCR STATE SOURCE_SYSTEM_TYPE  duration  \\\n",
       "1            133        Lightning    CA                FED       0.0   \n",
       "2            152       Negligence    CA                FED       0.0   \n",
       "\n",
       "  FIRE_SIZE_CLASS   LATITUDE   LONGITUDE SOURCE_REPORTING_UNIT_NAME  \\\n",
       "1               A  38.933056 -120.404444   Eldorado National Forest   \n",
       "2               A  38.984167 -120.735556   Eldorado National Forest   \n",
       "\n",
       "   FIRE_YEAR  FIRE_SIZE  elevation   bdod    cec   cfvo   clay  nitrogen  \\\n",
       "1       2004       0.25       1842  102.0  335.0  246.0  140.0     466.0   \n",
       "2       2004       0.10       1067  119.0  213.0  137.0  244.0     343.0   \n",
       "\n",
       "   phh2o   sand   silt    soc  \n",
       "1   58.0  550.0  309.0  741.0  \n",
       "2   58.0  331.0  425.0  573.0  "
      ]
     },
     "execution_count": 3,
     "metadata": {},
     "output_type": "execute_result"
    }
   ],
   "source": [
    "df.head(2)"
   ]
  },
  {
   "cell_type": "code",
   "execution_count": 4,
   "id": "2003ec4e-7ef1-41cd-9a1b-921bf7aca783",
   "metadata": {},
   "outputs": [
    {
     "data": {
      "text/plain": [
       "Lightning         19825\n",
       "Negligence        13595\n",
       "Infrastructure     9829\n",
       "Arson              8957\n",
       "Name: STAT_CAUSE_DESCR, dtype: int64"
      ]
     },
     "execution_count": 4,
     "metadata": {},
     "output_type": "execute_result"
    }
   ],
   "source": [
    "df['STAT_CAUSE_DESCR'].value_counts()"
   ]
  },
  {
   "cell_type": "code",
   "execution_count": 5,
   "id": "641f2560",
   "metadata": {},
   "outputs": [],
   "source": [
    "X = df.drop([\"STAT_CAUSE_DESCR\", 'STATE'] , axis='columns')\n",
    "X = pd.get_dummies(columns=[ \n",
    "                            'SOURCE_SYSTEM_TYPE',\n",
    "                            'FIRE_SIZE_CLASS',\n",
    "                            'SOURCE_REPORTING_UNIT_NAME'\n",
    "                           ], \n",
    "                   drop_first=True, data=X)\n",
    "\n",
    "y = df['STAT_CAUSE_DESCR']"
   ]
  },
  {
   "cell_type": "code",
   "execution_count": null,
   "id": "6003fcfa-c45b-4226-92da-35c0fbac5f92",
   "metadata": {},
   "outputs": [],
   "source": []
  },
  {
   "cell_type": "code",
   "execution_count": 6,
   "id": "482ee6bd",
   "metadata": {},
   "outputs": [],
   "source": [
    "X_train,X_test, y_train, y_test = train_test_split(X,y,test_size=.2,random_state=2023)"
   ]
  },
  {
   "cell_type": "code",
   "execution_count": 7,
   "id": "f223d734-e81e-4a84-9aae-458849ee6685",
   "metadata": {},
   "outputs": [],
   "source": [
    "sc = StandardScaler()\n",
    "Z_train = sc.fit_transform(X_train)\n",
    "Z_test = sc.transform(X_test)"
   ]
  },
  {
   "cell_type": "code",
   "execution_count": 8,
   "id": "b7ad0888-f34c-4b20-8281-96b12f98bb6a",
   "metadata": {},
   "outputs": [
    {
     "data": {
      "text/plain": [
       "Lightning         0.379746\n",
       "Negligence        0.260411\n",
       "Infrastructure    0.188273\n",
       "Arson             0.171570\n",
       "Name: STAT_CAUSE_DESCR, dtype: float64"
      ]
     },
     "execution_count": 8,
     "metadata": {},
     "output_type": "execute_result"
    }
   ],
   "source": [
    "null_model = y.value_counts(normalize= True)\n",
    "null_model"
   ]
  },
  {
   "cell_type": "code",
   "execution_count": 9,
   "id": "9fa35479-5cb9-4078-adbb-7726ddda712f",
   "metadata": {},
   "outputs": [
    {
     "data": {
      "text/plain": [
       "count         52206\n",
       "unique            4\n",
       "top       Lightning\n",
       "freq          19825\n",
       "Name: STAT_CAUSE_DESCR, dtype: object"
      ]
     },
     "execution_count": 9,
     "metadata": {},
     "output_type": "execute_result"
    }
   ],
   "source": [
    "y.describe()"
   ]
  },
  {
   "cell_type": "markdown",
   "id": "17e9e43e-db11-4134-bba0-fa17f42c1a14",
   "metadata": {
    "tags": []
   },
   "source": [
    "### Random Forest"
   ]
  },
  {
   "cell_type": "code",
   "execution_count": 10,
   "id": "b1004cbc",
   "metadata": {
    "tags": []
   },
   "outputs": [
    {
     "data": {
      "text/plain": [
       "0.700632062823214"
      ]
     },
     "execution_count": 10,
     "metadata": {},
     "output_type": "execute_result"
    }
   ],
   "source": [
    "model_rf = RandomForestClassifier()\n",
    "model_rf.fit(Z_train, y_train)\n",
    "model_rf.score(Z_test, y_test)"
   ]
  },
  {
   "cell_type": "code",
   "execution_count": 11,
   "id": "0d01c1bd",
   "metadata": {},
   "outputs": [
    {
     "data": {
      "image/png": "[encoded data removed]",
      "text/plain": [
       "<Figure size 700x700 with 2 Axes>"
      ]
     },
     "metadata": {},
     "output_type": "display_data"
    }
   ],
   "source": [
    "f,ax = plt.subplots(1,1,figsize=(7,7))\n",
    "\n",
    "cm= ConfusionMatrixDisplay.from_estimator(model_rf,Z_test,y_test, cmap = 'Greens',normalize= 'true', xticks_rotation='vertical', values_format='.1g', ax=ax)\n",
    "plt.title(\"Confusion Matrix\")\n",
    "sns.set(font_scale=.9)\n",
    "plt.grid(None)\n",
    "\n",
    ";\n",
    "plt.rcParams[\"figure.edgecolor\"] = \"#FAEEDA\"\n",
    "plt.rcParams[\"figure.facecolor\"] = \"#FAEEDA\""
   ]
  },
  {
   "cell_type": "markdown",
   "id": "8eb59395-b92e-43d9-98c2-d5db6d67d5a5",
   "metadata": {
    "jp-MarkdownHeadingCollapsed": true,
    "tags": []
   },
   "source": [
    "# Bin combining\n",
    "dropping misc\n",
    "combining children with negligence\n",
    "infrastructure and equipment use to "
   ]
  },
  {
   "cell_type": "code",
   "execution_count": 12,
   "id": "cdfbbd77-7124-4bc4-ac59-612bc09e41cd",
   "metadata": {
    "tags": []
   },
   "outputs": [],
   "source": [
    "df=df[df[\"STAT_CAUSE_DESCR\"]!='Miscellaneous']"
   ]
  },
  {
   "cell_type": "code",
   "execution_count": 13,
   "id": "597c0206-43e9-485b-9e98-1a799791da0d",
   "metadata": {},
   "outputs": [],
   "source": [
    "df['STAT_CAUSE_DESCR'] = np.where(df['STAT_CAUSE_DESCR'] == 'Children', 'Negligence',df['STAT_CAUSE_DESCR'])"
   ]
  },
  {
   "cell_type": "code",
   "execution_count": 14,
   "id": "9ee708d2-1fbe-43f1-ac5a-919e7f84004e",
   "metadata": {
    "tags": []
   },
   "outputs": [],
   "source": [
    "df['STAT_CAUSE_DESCR'] = np.where(df['STAT_CAUSE_DESCR'] == 'Equipment Use','Infrastructure', df['STAT_CAUSE_DESCR'])\n"
   ]
  },
  {
   "cell_type": "code",
   "execution_count": 15,
   "id": "904c04ba-ba36-4930-a8c8-cbe23602f197",
   "metadata": {},
   "outputs": [],
   "source": [
    "# df['STAT_CAUSE_DESCR'] = np.where(df['STAT_CAUSE_DESCR'] == 'Equipment Use','Infrastructure')"
   ]
  },
  {
   "cell_type": "code",
   "execution_count": 16,
   "id": "bb1b43bf-38b1-4d2d-a6c7-a72c3ef24395",
   "metadata": {},
   "outputs": [],
   "source": [
    "X = df.drop([\"STAT_CAUSE_DESCR\", 'STATE'] , axis='columns')\n",
    "X = pd.get_dummies(columns=[ \n",
    "                            'SOURCE_SYSTEM_TYPE',\n",
    "                            'FIRE_SIZE_CLASS',\n",
    "                            'SOURCE_REPORTING_UNIT_NAME'\n",
    "                           ], \n",
    "                   drop_first=True, data=X)\n",
    "\n",
    "y = df['STAT_CAUSE_DESCR']"
   ]
  },
  {
   "cell_type": "code",
   "execution_count": 17,
   "id": "f75f2578-253a-44e9-bd42-6703bd5900d2",
   "metadata": {},
   "outputs": [],
   "source": [
    "X_train,X_test, y_train, y_test = train_test_split(X,y,test_size=.2,random_state=2023, stratify=y)"
   ]
  },
  {
   "cell_type": "code",
   "execution_count": 18,
   "id": "50cc41b7-110f-4b20-b253-e84519e73cb1",
   "metadata": {},
   "outputs": [],
   "source": [
    "sc = StandardScaler()\n",
    "Z_train = sc.fit_transform(X_train)\n",
    "Z_test = sc.transform(X_test)"
   ]
  },
  {
   "cell_type": "code",
   "execution_count": 19,
   "id": "acc4bd7b-28b5-44bf-adf7-b82ddeacef43",
   "metadata": {},
   "outputs": [
    {
     "data": {
      "text/plain": [
       "Lightning         0.379746\n",
       "Negligence        0.260411\n",
       "Infrastructure    0.188273\n",
       "Arson             0.171570\n",
       "Name: STAT_CAUSE_DESCR, dtype: float64"
      ]
     },
     "execution_count": 19,
     "metadata": {},
     "output_type": "execute_result"
    }
   ],
   "source": [
    "null_model = y.value_counts(normalize= True)\n",
    "null_model"
   ]
  },
  {
   "cell_type": "code",
   "execution_count": 20,
   "id": "b981bce2-372f-4570-a291-f2980e32e8c2",
   "metadata": {
    "tags": []
   },
   "outputs": [
    {
     "data": {
      "text/plain": [
       "0.698237885462555"
      ]
     },
     "execution_count": 20,
     "metadata": {},
     "output_type": "execute_result"
    }
   ],
   "source": [
    "model_drop = RandomForestClassifier()\n",
    "model_drop.fit(Z_train, y_train)\n",
    "model_drop.score(Z_test, y_test)"
   ]
  },
  {
   "cell_type": "code",
   "execution_count": 21,
   "id": "f3ff3de5-badd-42fb-bce6-de6664a77642",
   "metadata": {},
   "outputs": [
    {
     "data": {
      "image/png": "[encoded data removed]",
      "text/plain": [
       "<Figure size 700x700 with 2 Axes>"
      ]
     },
     "metadata": {},
     "output_type": "display_data"
    }
   ],
   "source": [
    "f,ax = plt.subplots(1,1,figsize=(7,7))\n",
    "\n",
    "cm= ConfusionMatrixDisplay.from_estimator(model_drop,Z_test,y_test, cmap = 'Greens',normalize= 'true', xticks_rotation='vertical', values_format='.1g', ax=ax)\n",
    "plt.title(\"Confusion Matrix\")\n",
    "sns.set(font_scale=.9)\n",
    "plt.grid(None)\n",
    "\n",
    ";\n",
    "plt.rcParams[\"figure.edgecolor\"] = \"#FAEEDA\"\n",
    "plt.rcParams[\"figure.facecolor\"] = \"#FAEEDA\""
   ]
  },
  {
   "cell_type": "code",
   "execution_count": 23,
   "id": "7ed84cd1-2224-4b83-ab4f-e5fa69ff293b",
   "metadata": {},
   "outputs": [
    {
     "data": {
      "text/plain": [
       "Lightning         19825\n",
       "Negligence        13595\n",
       "Infrastructure     9829\n",
       "Arson              8957\n",
       "Name: STAT_CAUSE_DESCR, dtype: int64"
      ]
     },
     "execution_count": 23,
     "metadata": {},
     "output_type": "execute_result"
    }
   ],
   "source": [
    "df['STAT_CAUSE_DESCR'].value_counts()"
   ]
  },
  {
   "cell_type": "markdown",
   "id": "0fe15ca0-3d9d-41d3-8a1c-9e6ba89e7353",
   "metadata": {
    "jp-MarkdownHeadingCollapsed": true,
    "tags": []
   },
   "source": [
    "# Grid Search"
   ]
  },
  {
   "cell_type": "code",
   "execution_count": 24,
   "id": "293b2b7e-4ef7-4d9f-b729-a3eb2d875b36",
   "metadata": {},
   "outputs": [],
   "source": [
    "rf_params = {\n",
    "    'n_estimators':[50, 100, 150],\n",
    "    'max_depth': [None, 4,8]\n",
    "}"
   ]
  },
  {
   "cell_type": "code",
   "execution_count": 25,
   "id": "066fe450-55c7-4c54-9503-90af41330880",
   "metadata": {},
   "outputs": [],
   "source": [
    "gs= GridSearchCV(model_rf, param_grid=rf_params, cv=5, n_jobs=-2)"
   ]
  },
  {
   "cell_type": "code",
   "execution_count": 26,
   "id": "354cb0b1-c4e0-4831-9fc6-b76f1c08f623",
   "metadata": {},
   "outputs": [
    {
     "data": {
      "text/html": [
       "<style>#sk-container-id-1 {color: black;background-color: white;}#sk-container-id-1 pre{padding: 0;}#sk-container-id-1 div.sk-toggleable {background-color: white;}#sk-container-id-1 label.sk-toggleable__label {cursor: pointer;display: block;width: 100%;margin-bottom: 0;padding: 0.3em;box-sizing: border-box;text-align: center;}#sk-container-id-1 label.sk-toggleable__label-arrow:before {content: \"▸\";float: left;margin-right: 0.25em;color: #696969;}#sk-container-id-1 label.sk-toggleable__label-arrow:hover:before {color: black;}#sk-container-id-1 div.sk-estimator:hover label.sk-toggleable__label-arrow:before {color: black;}#sk-container-id-1 div.sk-toggleable__content {max-height: 0;max-width: 0;overflow: hidden;text-align: left;background-color: #f0f8ff;}#sk-container-id-1 div.sk-toggleable__content pre {margin: 0.2em;color: black;border-radius: 0.25em;background-color: #f0f8ff;}#sk-container-id-1 input.sk-toggleable__control:checked~div.sk-toggleable__content {max-height: 200px;max-width: 100%;overflow: auto;}#sk-container-id-1 input.sk-toggleable__control:checked~label.sk-toggleable__label-arrow:before {content: \"▾\";}#sk-container-id-1 div.sk-estimator input.sk-toggleable__control:checked~label.sk-toggleable__label {background-color: #d4ebff;}#sk-container-id-1 div.sk-label input.sk-toggleable__control:checked~label.sk-toggleable__label {background-color: #d4ebff;}#sk-container-id-1 input.sk-hidden--visually {border: 0;clip: rect(1px 1px 1px 1px);clip: rect(1px, 1px, 1px, 1px);height: 1px;margin: -1px;overflow: hidden;padding: 0;position: absolute;width: 1px;}#sk-container-id-1 div.sk-estimator {font-family: monospace;background-color: #f0f8ff;border: 1px dotted black;border-radius: 0.25em;box-sizing: border-box;margin-bottom: 0.5em;}#sk-container-id-1 div.sk-estimator:hover {background-color: #d4ebff;}#sk-container-id-1 div.sk-parallel-item::after {content: \"\";width: 100%;border-bottom: 1px solid gray;flex-grow: 1;}#sk-container-id-1 div.sk-label:hover label.sk-toggleable__label {background-color: #d4ebff;}#sk-container-id-1 div.sk-serial::before {content: \"\";position: absolute;border-left: 1px solid gray;box-sizing: border-box;top: 0;bottom: 0;left: 50%;z-index: 0;}#sk-container-id-1 div.sk-serial {display: flex;flex-direction: column;align-items: center;background-color: white;padding-right: 0.2em;padding-left: 0.2em;position: relative;}#sk-container-id-1 div.sk-item {position: relative;z-index: 1;}#sk-container-id-1 div.sk-parallel {display: flex;align-items: stretch;justify-content: center;background-color: white;position: relative;}#sk-container-id-1 div.sk-item::before, #sk-container-id-1 div.sk-parallel-item::before {content: \"\";position: absolute;border-left: 1px solid gray;box-sizing: border-box;top: 0;bottom: 0;left: 50%;z-index: -1;}#sk-container-id-1 div.sk-parallel-item {display: flex;flex-direction: column;z-index: 1;position: relative;background-color: white;}#sk-container-id-1 div.sk-parallel-item:first-child::after {align-self: flex-end;width: 50%;}#sk-container-id-1 div.sk-parallel-item:last-child::after {align-self: flex-start;width: 50%;}#sk-container-id-1 div.sk-parallel-item:only-child::after {width: 0;}#sk-container-id-1 div.sk-dashed-wrapped {border: 1px dashed gray;margin: 0 0.4em 0.5em 0.4em;box-sizing: border-box;padding-bottom: 0.4em;background-color: white;}#sk-container-id-1 div.sk-label label {font-family: monospace;font-weight: bold;display: inline-block;line-height: 1.2em;}#sk-container-id-1 div.sk-label-container {text-align: center;}#sk-container-id-1 div.sk-container {/* jupyter's `normalize.less` sets `[hidden] { display: none; }` but bootstrap.min.css set `[hidden] { display: none !important; }` so we also need the `!important` here to be able to override the default hidden behavior on the sphinx rendered scikit-learn.org. See: https://github.com/scikit-learn/scikit-learn/issues/21755 */display: inline-block !important;position: relative;}#sk-container-id-1 div.sk-text-repr-fallback {display: none;}</style><div id=\"sk-container-id-1\" class=\"sk-top-container\"><div class=\"sk-text-repr-fallback\"><pre>GridSearchCV(cv=5, estimator=RandomForestClassifier(), n_jobs=-2,\n",
       "             param_grid={&#x27;max_depth&#x27;: [None, 4, 8],\n",
       "                         &#x27;n_estimators&#x27;: [50, 100, 150]})</pre><b>In a Jupyter environment, please rerun this cell to show the HTML representation or trust the notebook. <br />On GitHub, the HTML representation is unable to render, please try loading this page with nbviewer.org.</b></div><div class=\"sk-container\" hidden><div class=\"sk-item sk-dashed-wrapped\"><div class=\"sk-label-container\"><div class=\"sk-label sk-toggleable\"><input class=\"sk-toggleable__control sk-hidden--visually\" id=\"sk-estimator-id-1\" type=\"checkbox\" ><label for=\"sk-estimator-id-1\" class=\"sk-toggleable__label sk-toggleable__label-arrow\">GridSearchCV</label><div class=\"sk-toggleable__content\"><pre>GridSearchCV(cv=5, estimator=RandomForestClassifier(), n_jobs=-2,\n",
       "             param_grid={&#x27;max_depth&#x27;: [None, 4, 8],\n",
       "                         &#x27;n_estimators&#x27;: [50, 100, 150]})</pre></div></div></div><div class=\"sk-parallel\"><div class=\"sk-parallel-item\"><div class=\"sk-item\"><div class=\"sk-label-container\"><div class=\"sk-label sk-toggleable\"><input class=\"sk-toggleable__control sk-hidden--visually\" id=\"sk-estimator-id-2\" type=\"checkbox\" ><label for=\"sk-estimator-id-2\" class=\"sk-toggleable__label sk-toggleable__label-arrow\">estimator: RandomForestClassifier</label><div class=\"sk-toggleable__content\"><pre>RandomForestClassifier()</pre></div></div></div><div class=\"sk-serial\"><div class=\"sk-item\"><div class=\"sk-estimator sk-toggleable\"><input class=\"sk-toggleable__control sk-hidden--visually\" id=\"sk-estimator-id-3\" type=\"checkbox\" ><label for=\"sk-estimator-id-3\" class=\"sk-toggleable__label sk-toggleable__label-arrow\">RandomForestClassifier</label><div class=\"sk-toggleable__content\"><pre>RandomForestClassifier()</pre></div></div></div></div></div></div></div></div></div></div>"
      ],
      "text/plain": [
       "GridSearchCV(cv=5, estimator=RandomForestClassifier(), n_jobs=-2,\n",
       "             param_grid={'max_depth': [None, 4, 8],\n",
       "                         'n_estimators': [50, 100, 150]})"
      ]
     },
     "execution_count": 26,
     "metadata": {},
     "output_type": "execute_result"
    }
   ],
   "source": [
    "gs.fit(X_train, y_train)"
   ]
  },
  {
   "cell_type": "code",
   "execution_count": 27,
   "id": "3f2ef0dc-fa6c-4b5d-b70c-386f6d5db9e8",
   "metadata": {},
   "outputs": [
    {
     "data": {
      "text/plain": [
       "0.693228681461177"
      ]
     },
     "execution_count": 27,
     "metadata": {},
     "output_type": "execute_result"
    }
   ],
   "source": [
    "gs.best_score_"
   ]
  },
  {
   "cell_type": "code",
   "execution_count": 28,
   "id": "ce6f3249-26f1-497d-9b42-a83ed31994f3",
   "metadata": {},
   "outputs": [
    {
     "data": {
      "text/plain": [
       "{'max_depth': None, 'n_estimators': 150}"
      ]
     },
     "execution_count": 28,
     "metadata": {},
     "output_type": "execute_result"
    }
   ],
   "source": [
    "gs.best_params_"
   ]
  },
  {
   "cell_type": "code",
   "execution_count": 29,
   "id": "4559e75f-beb3-4da0-a221-4bcc2d152c00",
   "metadata": {},
   "outputs": [],
   "source": [
    "# gs.get_params()"
   ]
  },
  {
   "cell_type": "code",
   "execution_count": 30,
   "id": "4b3fb605-6ec9-42a8-9d37-be4925b56b93",
   "metadata": {},
   "outputs": [],
   "source": [
    "rf_params2 = {\n",
    "    'n_estimators':[200,500],\n",
    "    'max_depth': [None],\n",
    "    'min_samples_leaf':[1,2]\n",
    "}"
   ]
  },
  {
   "cell_type": "code",
   "execution_count": 31,
   "id": "55b1fea3-3154-4e61-a6a4-de3c5db3f945",
   "metadata": {},
   "outputs": [],
   "source": [
    "gs2= GridSearchCV(model_rf, param_grid=rf_params2, cv=5, n_jobs=-2)"
   ]
  },
  {
   "cell_type": "code",
   "execution_count": 32,
   "id": "3d71ecd7-c7be-4d36-b327-643ca8b93d76",
   "metadata": {},
   "outputs": [
    {
     "name": "stderr",
     "output_type": "stream",
     "text": [
      "/Users/ryan/miniconda3/envs/tf/lib/python3.9/site-packages/joblib/externals/loky/process_executor.py:700: UserWarning: A worker stopped while some jobs were given to the executor. This can be caused by a too short worker timeout or by a memory leak.\n",
      "  warnings.warn(\n"
     ]
    },
    {
     "data": {
      "text/html": [
       "<style>#sk-container-id-2 {color: black;background-color: white;}#sk-container-id-2 pre{padding: 0;}#sk-container-id-2 div.sk-toggleable {background-color: white;}#sk-container-id-2 label.sk-toggleable__label {cursor: pointer;display: block;width: 100%;margin-bottom: 0;padding: 0.3em;box-sizing: border-box;text-align: center;}#sk-container-id-2 label.sk-toggleable__label-arrow:before {content: \"▸\";float: left;margin-right: 0.25em;color: #696969;}#sk-container-id-2 label.sk-toggleable__label-arrow:hover:before {color: black;}#sk-container-id-2 div.sk-estimator:hover label.sk-toggleable__label-arrow:before {color: black;}#sk-container-id-2 div.sk-toggleable__content {max-height: 0;max-width: 0;overflow: hidden;text-align: left;background-color: #f0f8ff;}#sk-container-id-2 div.sk-toggleable__content pre {margin: 0.2em;color: black;border-radius: 0.25em;background-color: #f0f8ff;}#sk-container-id-2 input.sk-toggleable__control:checked~div.sk-toggleable__content {max-height: 200px;max-width: 100%;overflow: auto;}#sk-container-id-2 input.sk-toggleable__control:checked~label.sk-toggleable__label-arrow:before {content: \"▾\";}#sk-container-id-2 div.sk-estimator input.sk-toggleable__control:checked~label.sk-toggleable__label {background-color: #d4ebff;}#sk-container-id-2 div.sk-label input.sk-toggleable__control:checked~label.sk-toggleable__label {background-color: #d4ebff;}#sk-container-id-2 input.sk-hidden--visually {border: 0;clip: rect(1px 1px 1px 1px);clip: rect(1px, 1px, 1px, 1px);height: 1px;margin: -1px;overflow: hidden;padding: 0;position: absolute;width: 1px;}#sk-container-id-2 div.sk-estimator {font-family: monospace;background-color: #f0f8ff;border: 1px dotted black;border-radius: 0.25em;box-sizing: border-box;margin-bottom: 0.5em;}#sk-container-id-2 div.sk-estimator:hover {background-color: #d4ebff;}#sk-container-id-2 div.sk-parallel-item::after {content: \"\";width: 100%;border-bottom: 1px solid gray;flex-grow: 1;}#sk-container-id-2 div.sk-label:hover label.sk-toggleable__label {background-color: #d4ebff;}#sk-container-id-2 div.sk-serial::before {content: \"\";position: absolute;border-left: 1px solid gray;box-sizing: border-box;top: 0;bottom: 0;left: 50%;z-index: 0;}#sk-container-id-2 div.sk-serial {display: flex;flex-direction: column;align-items: center;background-color: white;padding-right: 0.2em;padding-left: 0.2em;position: relative;}#sk-container-id-2 div.sk-item {position: relative;z-index: 1;}#sk-container-id-2 div.sk-parallel {display: flex;align-items: stretch;justify-content: center;background-color: white;position: relative;}#sk-container-id-2 div.sk-item::before, #sk-container-id-2 div.sk-parallel-item::before {content: \"\";position: absolute;border-left: 1px solid gray;box-sizing: border-box;top: 0;bottom: 0;left: 50%;z-index: -1;}#sk-container-id-2 div.sk-parallel-item {display: flex;flex-direction: column;z-index: 1;position: relative;background-color: white;}#sk-container-id-2 div.sk-parallel-item:first-child::after {align-self: flex-end;width: 50%;}#sk-container-id-2 div.sk-parallel-item:last-child::after {align-self: flex-start;width: 50%;}#sk-container-id-2 div.sk-parallel-item:only-child::after {width: 0;}#sk-container-id-2 div.sk-dashed-wrapped {border: 1px dashed gray;margin: 0 0.4em 0.5em 0.4em;box-sizing: border-box;padding-bottom: 0.4em;background-color: white;}#sk-container-id-2 div.sk-label label {font-family: monospace;font-weight: bold;display: inline-block;line-height: 1.2em;}#sk-container-id-2 div.sk-label-container {text-align: center;}#sk-container-id-2 div.sk-container {/* jupyter's `normalize.less` sets `[hidden] { display: none; }` but bootstrap.min.css set `[hidden] { display: none !important; }` so we also need the `!important` here to be able to override the default hidden behavior on the sphinx rendered scikit-learn.org. See: https://github.com/scikit-learn/scikit-learn/issues/21755 */display: inline-block !important;position: relative;}#sk-container-id-2 div.sk-text-repr-fallback {display: none;}</style><div id=\"sk-container-id-2\" class=\"sk-top-container\"><div class=\"sk-text-repr-fallback\"><pre>GridSearchCV(cv=5, estimator=RandomForestClassifier(), n_jobs=-2,\n",
       "             param_grid={&#x27;max_depth&#x27;: [None], &#x27;min_samples_leaf&#x27;: [1, 2],\n",
       "                         &#x27;n_estimators&#x27;: [200, 500]})</pre><b>In a Jupyter environment, please rerun this cell to show the HTML representation or trust the notebook. <br />On GitHub, the HTML representation is unable to render, please try loading this page with nbviewer.org.</b></div><div class=\"sk-container\" hidden><div class=\"sk-item sk-dashed-wrapped\"><div class=\"sk-label-container\"><div class=\"sk-label sk-toggleable\"><input class=\"sk-toggleable__control sk-hidden--visually\" id=\"sk-estimator-id-4\" type=\"checkbox\" ><label for=\"sk-estimator-id-4\" class=\"sk-toggleable__label sk-toggleable__label-arrow\">GridSearchCV</label><div class=\"sk-toggleable__content\"><pre>GridSearchCV(cv=5, estimator=RandomForestClassifier(), n_jobs=-2,\n",
       "             param_grid={&#x27;max_depth&#x27;: [None], &#x27;min_samples_leaf&#x27;: [1, 2],\n",
       "                         &#x27;n_estimators&#x27;: [200, 500]})</pre></div></div></div><div class=\"sk-parallel\"><div class=\"sk-parallel-item\"><div class=\"sk-item\"><div class=\"sk-label-container\"><div class=\"sk-label sk-toggleable\"><input class=\"sk-toggleable__control sk-hidden--visually\" id=\"sk-estimator-id-5\" type=\"checkbox\" ><label for=\"sk-estimator-id-5\" class=\"sk-toggleable__label sk-toggleable__label-arrow\">estimator: RandomForestClassifier</label><div class=\"sk-toggleable__content\"><pre>RandomForestClassifier()</pre></div></div></div><div class=\"sk-serial\"><div class=\"sk-item\"><div class=\"sk-estimator sk-toggleable\"><input class=\"sk-toggleable__control sk-hidden--visually\" id=\"sk-estimator-id-6\" type=\"checkbox\" ><label for=\"sk-estimator-id-6\" class=\"sk-toggleable__label sk-toggleable__label-arrow\">RandomForestClassifier</label><div class=\"sk-toggleable__content\"><pre>RandomForestClassifier()</pre></div></div></div></div></div></div></div></div></div></div>"
      ],
      "text/plain": [
       "GridSearchCV(cv=5, estimator=RandomForestClassifier(), n_jobs=-2,\n",
       "             param_grid={'max_depth': [None], 'min_samples_leaf': [1, 2],\n",
       "                         'n_estimators': [200, 500]})"
      ]
     },
     "execution_count": 32,
     "metadata": {},
     "output_type": "execute_result"
    }
   ],
   "source": [
    "gs2.fit(X_train, y_train)"
   ]
  },
  {
   "cell_type": "code",
   "execution_count": 33,
   "id": "c3b1521e-8671-4f49-9894-eacf9fb577d5",
   "metadata": {},
   "outputs": [
    {
     "data": {
      "text/plain": [
       "0.6948568218085777"
      ]
     },
     "execution_count": 33,
     "metadata": {},
     "output_type": "execute_result"
    }
   ],
   "source": [
    "gs2.best_score_"
   ]
  },
  {
   "cell_type": "markdown",
   "id": "e89e542a-0626-4dfe-89cb-fda34c941155",
   "metadata": {
    "tags": []
   },
   "source": [
    "# What if we only focus on the highest correlation categories?"
   ]
  },
  {
   "cell_type": "code",
   "execution_count": 34,
   "id": "5cecdb0e-8872-4b51-a1a6-b3f024b868f9",
   "metadata": {},
   "outputs": [
    {
     "data": {
      "text/plain": [
       "Lightning         0.379746\n",
       "Negligence        0.260411\n",
       "Infrastructure    0.188273\n",
       "Arson             0.171570\n",
       "Name: STAT_CAUSE_DESCR, dtype: float64"
      ]
     },
     "execution_count": 34,
     "metadata": {},
     "output_type": "execute_result"
    }
   ],
   "source": [
    "y.value_counts(normalize= True)"
   ]
  },
  {
   "cell_type": "code",
   "execution_count": 35,
   "id": "d5e26eb6-9000-4d75-96ca-2b9c271b0dda",
   "metadata": {},
   "outputs": [
    {
     "name": "stderr",
     "output_type": "stream",
     "text": [
      "/var/folders/fm/_6kg8xkn3jz4slz27zwpqnhc0000gn/T/ipykernel_7432/1173274598.py:6: FutureWarning: The default value of numeric_only in DataFrame.corr is deprecated. In a future version, it will default to False. Select only valid columns or specify the value of numeric_only to silence this warning.\n",
      "  corr = df.corr()[['class_number']].sort_values('class_number', ascending=False)\n"
     ]
    },
    {
     "data": {
      "image/png": "[encoded data removed]",
      "text/plain": [
       "<Figure size 800x800 with 2 Axes>"
      ]
     },
     "metadata": {},
     "output_type": "display_data"
    }
   ],
   "source": [
    "cause_map={'Lightning':0, 'Miscellaneous':1, 'Negligence':3,\n",
    "         'Equipment Use':4, 'Arson':5, 'Children':6, 'Infrastructure':7}\n",
    "df['class_number'] = df['STAT_CAUSE_DESCR'].map(cause_map)\n",
    "plt.figure(figsize = (8,8))\n",
    "\n",
    "corr = df.corr()[['class_number']].sort_values('class_number', ascending=False)\n",
    "\n",
    "mask = np.zeros_like(corr)\n",
    "mask[np.triu_indices_from(mask)] = True\n",
    "\n",
    "sns.set(font_scale=1)\n",
    "# Plot our correlation heatmap, while masking the upper triangle to be white.\n",
    "sns.heatmap(corr, mask = mask, square = True, cmap = 'twilight_shifted_r', annot = True, vmin = -1, vmax = 1);"
   ]
  },
  {
   "cell_type": "code",
   "execution_count": 36,
   "id": "0f7a1300-9220-436e-bc95-a7fe159989ad",
   "metadata": {},
   "outputs": [
    {
     "data": {
      "text/plain": [
       "Index(['DISCOVERY_DOY', 'STAT_CAUSE_DESCR', 'STATE', 'SOURCE_SYSTEM_TYPE',\n",
       "       'duration', 'FIRE_SIZE_CLASS', 'LATITUDE', 'LONGITUDE',\n",
       "       'SOURCE_REPORTING_UNIT_NAME', 'FIRE_YEAR', 'FIRE_SIZE', 'elevation',\n",
       "       'bdod', 'cec', 'cfvo', 'clay', 'nitrogen', 'phh2o', 'sand', 'silt',\n",
       "       'soc', 'class_number'],\n",
       "      dtype='object')"
      ]
     },
     "execution_count": 36,
     "metadata": {},
     "output_type": "execute_result"
    }
   ],
   "source": [
    "#lets try dropping categories between -.1 and .1 correlation values\n",
    "df.columns"
   ]
  },
  {
   "cell_type": "code",
   "execution_count": 37,
   "id": "ebadb40a-ee11-4e63-845a-288372f006fb",
   "metadata": {},
   "outputs": [],
   "source": [
    "X = df[[ 'elevation', 'bdod', 'clay', 'silt', 'nitrogen', 'sand', 'FIRE_SIZE_CLASS', 'duration', 'DISCOVERY_DOY']]\n",
    "\n",
    "X = pd.get_dummies(columns=['FIRE_SIZE_CLASS'], drop_first=True, data=X)\n",
    "\n",
    "y = df['STAT_CAUSE_DESCR']"
   ]
  },
  {
   "cell_type": "code",
   "execution_count": 38,
   "id": "fb01078c-f490-4903-b077-8d66433247f2",
   "metadata": {},
   "outputs": [],
   "source": [
    "X_train,X_test, y_train, y_test = train_test_split(X,y,test_size=.2,random_state=2023)"
   ]
  },
  {
   "cell_type": "code",
   "execution_count": 39,
   "id": "b44f9610-9718-40b1-bff8-ebc2ef4a4e09",
   "metadata": {},
   "outputs": [],
   "source": [
    "sc = StandardScaler()\n",
    "\n",
    "Z_train = sc.fit_transform(X_train)\n",
    "\n",
    "Z_test = sc.transform(X_test)\n"
   ]
  },
  {
   "cell_type": "code",
   "execution_count": 40,
   "id": "de716c41-6023-49ec-979d-d328f0f07103",
   "metadata": {},
   "outputs": [
    {
     "data": {
      "text/plain": [
       "0.6431718061674009"
      ]
     },
     "execution_count": 40,
     "metadata": {},
     "output_type": "execute_result"
    }
   ],
   "source": [
    "model_rf = RandomForestClassifier()\n",
    "model_rf.fit(Z_train, y_train)\n",
    "model_rf.score(Z_test, y_test)"
   ]
  },
  {
   "cell_type": "code",
   "execution_count": null,
   "id": "680cc17c",
   "metadata": {},
   "outputs": [],
   "source": []
  }
 ],
 "metadata": {
  "kernelspec": {
   "display_name": "Python 3 (ipykernel)",
   "language": "python",
   "name": "python3"
  },
  "language_info": {
   "codemirror_mode": {
    "name": "ipython",
    "version": 3
   },
   "file_extension": ".py",
   "mimetype": "text/x-python",
   "name": "python",
   "nbconvert_exporter": "python",
   "pygments_lexer": "ipython3",
   "version": "3.9.16"
  }
 },
 "nbformat": 4,
 "nbformat_minor": 5
}
