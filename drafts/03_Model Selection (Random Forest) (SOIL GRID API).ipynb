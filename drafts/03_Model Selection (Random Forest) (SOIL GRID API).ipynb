{
 "cells": [
  {
   "cell_type": "code",
   "execution_count": 36,
   "id": "e8103048",
   "metadata": {},
   "outputs": [],
   "source": [
    "#imports\n",
    "import numpy as np\n",
    "import pandas as pd\n",
    "import matplotlib.pyplot as plt\n",
    "import requests\n",
    "import pickle\n",
    "import time\n",
    "\n",
    "from sklearn.model_selection import train_test_split, GridSearchCV\n",
    "from sklearn.pipeline import Pipeline\n",
    "from sklearn.linear_model import LogisticRegression\n",
    "from sklearn.ensemble import RandomForestClassifier, GradientBoostingClassifier,RandomForestRegressor\n",
    "from sklearn.svm import SVC\n",
    "from sklearn.metrics import confusion_matrix, ConfusionMatrixDisplay"
   ]
  },
  {
   "cell_type": "code",
   "execution_count": 37,
   "id": "df6f0d93",
   "metadata": {},
   "outputs": [],
   "source": [
    "with open('pickles/df_description.pkl', 'rb') as f:\n",
    "    df_description = pickle.load(f)\n",
    "    \n",
    "with open('pickles/df_model.pkl', 'rb') as f:\n",
    "    df_model = pickle.load(f)"
   ]
  },
  {
   "cell_type": "code",
   "execution_count": 41,
   "id": "5c23ecd4",
   "metadata": {},
   "outputs": [],
   "source": []
  },
  {
   "cell_type": "markdown",
   "id": "84e0fa8f",
   "metadata": {},
   "source": []
  },
  {
   "cell_type": "code",
   "execution_count": null,
   "id": "36bf1137",
   "metadata": {
    "scrolled": false
   },
   "outputs": [],
   "source": []
  },
  {
   "cell_type": "code",
   "execution_count": null,
   "id": "3a0bd183",
   "metadata": {},
   "outputs": [],
   "source": []
  },
  {
   "cell_type": "code",
   "execution_count": null,
   "id": "87f90112",
   "metadata": {
    "scrolled": false
   },
   "outputs": [],
   "source": [
    "data['properties']['layers']"
   ]
  },
  {
   "cell_type": "code",
   "execution_count": null,
   "id": "a9c400f3",
   "metadata": {},
   "outputs": [],
   "source": [
    "df_soil = pd.DataFrame(columns=['LATITUDE', 'LONGITUDE', 'soil_type', 'value'])\n",
    "\n",
    "# Iterate over coordinates\n",
    "for index, row in df_api.iterrows():\n",
    "    lat = row['LATITUDE']\n",
    "    lon = row['LONGITUDE']\n",
    "    \n",
    "    # Make API request\n",
    "    params = {\n",
    "        'lon': lon,\n",
    "        'lat': lat,\n",
    "        'property': ['clay', 'sand', 'silt'],\n",
    "        'depth': ['0-5cm'],\n",
    "        'value': ['mean']\n",
    "    }\n",
    "    \n",
    "    headers = {'accept': 'application/json'}\n",
    "    response = requests.get(url, params=params, headers=headers)\n",
    "    data = response.json()\n",
    "    \n",
    "    # Extract results for clay, sand, and silt and append to dataframe\n",
    "    for layer in data['properties']['layers']:\n",
    "        name = layer['name']\n",
    "        if name in ['clay', 'sand', 'silt']:\n",
    "            for depth in layer['depths']:\n",
    "                value = depth['values']['mean']\n",
    "                df_soil = df_soil.append({'LATITUDE': lat, 'LONGITUDE': lon, 'soil_type': name, 'value': value}, ignore_index=True)\n"
   ]
  },
  {
   "cell_type": "code",
   "execution_count": null,
   "id": "3a5f972e",
   "metadata": {},
   "outputs": [],
   "source": [
    "df_pivot = df_soil.pivot_table(index=['LATITUDE', 'LONGITUDE'], columns='soil_type', values='value').reset_index()[['LATITUDE', 'LONGITUDE', 'clay', 'sand', 'silt']]\n"
   ]
  },
  {
   "cell_type": "code",
   "execution_count": null,
   "id": "7f79592c",
   "metadata": {},
   "outputs": [],
   "source": [
    "merged_df = pd.merge(df_model, df_pivot, on=['LATITUDE','LONGITUDE'], how='outer')\n"
   ]
  },
  {
   "cell_type": "markdown",
   "id": "082f3117",
   "metadata": {},
   "source": [
    "### Dummifying Columns"
   ]
  },
  {
   "cell_type": "code",
   "execution_count": null,
   "id": "839a0cfb",
   "metadata": {},
   "outputs": [],
   "source": [
    "categorical = ['STAT_CAUSE_DESCR',\n",
    "               'STATE','SOURCE_SYSTEM_TYPE']\n",
    "numeric = ['DISCOVERY_DOY','duration']"
   ]
  },
  {
   "cell_type": "code",
   "execution_count": null,
   "id": "327b5923",
   "metadata": {},
   "outputs": [],
   "source": [
    "df_dum = pd.get_dummies(df_model[categorical],drop_first= True)\n",
    "df_num = df_model[numeric]"
   ]
  },
  {
   "cell_type": "code",
   "execution_count": null,
   "id": "35478e42",
   "metadata": {
    "scrolled": true
   },
   "outputs": [],
   "source": [
    "df = pd.concat([df_num,df_dum],axis=1)\n",
    "df['FIRE_SIZE_CLASS'] = df_model['FIRE_SIZE_CLASS']"
   ]
  },
  {
   "cell_type": "markdown",
   "id": "3b00a371",
   "metadata": {},
   "source": [
    "### Random Sampling\n",
    "\n",
    "Because our dataset is so large, we'll obtain a representative subset from our dataset to help us tune our parameters. This will help us discover the optimal hyperparameters that we can then apply to our full Random Forest model."
   ]
  },
  {
   "cell_type": "code",
   "execution_count": null,
   "id": "0ddb6fb7",
   "metadata": {},
   "outputs": [],
   "source": [
    "df_sample = df.sample(frac = .1, random_state = 2023)\n",
    "df_sample.shape"
   ]
  },
  {
   "cell_type": "markdown",
   "id": "8c1b4626",
   "metadata": {},
   "source": [
    "#### Train Test Split with Sample X & y"
   ]
  },
  {
   "cell_type": "code",
   "execution_count": null,
   "id": "7b3f4a9a",
   "metadata": {},
   "outputs": [],
   "source": [
    "X = df_sample.drop('FIRE_SIZE_CLASS',axis=1)\n",
    "y = df_sample['FIRE_SIZE_CLASS']"
   ]
  },
  {
   "cell_type": "code",
   "execution_count": null,
   "id": "a20426d2",
   "metadata": {},
   "outputs": [],
   "source": [
    "X_train,X_test, y_train, y_test = train_test_split(X,y,test_size=.2,random_state=2023)"
   ]
  },
  {
   "cell_type": "markdown",
   "id": "bcdef6dd",
   "metadata": {},
   "source": [
    "#### Random Forest with Sample"
   ]
  },
  {
   "cell_type": "code",
   "execution_count": null,
   "id": "92162bf8",
   "metadata": {},
   "outputs": [],
   "source": [
    "model_rf_sample = RandomForestClassifier(n_jobs=-1)"
   ]
  },
  {
   "cell_type": "code",
   "execution_count": null,
   "id": "a563e5cd",
   "metadata": {},
   "outputs": [],
   "source": [
    "model_rf_sample.get_params()"
   ]
  },
  {
   "cell_type": "code",
   "execution_count": null,
   "id": "1f4b3c44",
   "metadata": {},
   "outputs": [],
   "source": [
    "params_rf = {\n",
    "    'n_estimators': [320,340,360],\n",
    "    'max_depth': [25,26,27,28],\n",
    "    'min_samples_split': [58, 60, 62],\n",
    "    'min_samples_leaf': [2, 4, 6],\n",
    "}"
   ]
  },
  {
   "cell_type": "code",
   "execution_count": null,
   "id": "0dd2ceef",
   "metadata": {},
   "outputs": [],
   "source": [
    "gs = GridSearchCV(model_rf_sample,params_rf,cv=5)\n",
    "gs.fit(X_train,y_train)"
   ]
  },
  {
   "cell_type": "code",
   "execution_count": null,
   "id": "78d8c363",
   "metadata": {},
   "outputs": [],
   "source": [
    "best_params_rf = gs.best_params_\n",
    "best_params_rf"
   ]
  },
  {
   "cell_type": "markdown",
   "id": "26dc034d",
   "metadata": {},
   "source": [
    "From:\n",
    "\n",
    "params_rf = {\n",
    "    'n_estimators': [320,340,360],\n",
    "    'max_depth': [25,26,27,28],\n",
    "    'min_samples_split': [58, 60, 62],\n",
    "    'min_samples_leaf': [2, 4, 6],\n",
    "}\n",
    "\n",
    "Result:\n",
    "\n",
    "{'max_depth': 27,\n",
    " 'min_samples_leaf': 2,\n",
    " 'min_samples_split': 58,\n",
    " 'n_estimators': 340}"
   ]
  },
  {
   "cell_type": "code",
   "execution_count": null,
   "id": "05e37db4",
   "metadata": {},
   "outputs": [],
   "source": [
    "model_rf_sample.set_params(**best_params_rf)"
   ]
  },
  {
   "cell_type": "code",
   "execution_count": null,
   "id": "24175bd5",
   "metadata": {},
   "outputs": [],
   "source": [
    "model_rf_sample.fit(X_train,y_train)"
   ]
  },
  {
   "cell_type": "code",
   "execution_count": null,
   "id": "9fa16ed7",
   "metadata": {},
   "outputs": [],
   "source": [
    "y_pred_rf = model_rf_sample.predict(X_test)\n",
    "score_rf = model_rf_sample.score(X_test,y_test)\n",
    "score_rf"
   ]
  },
  {
   "cell_type": "markdown",
   "id": "b21c8ec9",
   "metadata": {},
   "source": [
    "### Model Evaluation (Random Forest)\n",
    "\n",
    "We'll evaluate several models"
   ]
  },
  {
   "cell_type": "code",
   "execution_count": null,
   "id": "c9af004d",
   "metadata": {},
   "outputs": [],
   "source": [
    "X = df\n",
    "y = df_model['FIRE_SIZE_CLASS']"
   ]
  },
  {
   "cell_type": "code",
   "execution_count": null,
   "id": "bed8858c",
   "metadata": {},
   "outputs": [],
   "source": [
    "X_train,X_test, y_train, y_test = train_test_split(X,y,test_size=.2,random_state=2023)"
   ]
  },
  {
   "cell_type": "markdown",
   "id": "16de9cbf",
   "metadata": {},
   "source": [
    "#### Baseline Model"
   ]
  },
  {
   "cell_type": "code",
   "execution_count": null,
   "id": "49ae35da",
   "metadata": {},
   "outputs": [],
   "source": [
    "null_model = y.value_counts(normalize= True)\n",
    "null_model"
   ]
  },
  {
   "cell_type": "markdown",
   "id": "826fa718",
   "metadata": {},
   "source": [
    "### Random Forest"
   ]
  },
  {
   "cell_type": "code",
   "execution_count": null,
   "id": "67285dcd",
   "metadata": {},
   "outputs": [],
   "source": [
    "model_rf = RandomForestClassifier()"
   ]
  },
  {
   "cell_type": "code",
   "execution_count": null,
   "id": "dec80129",
   "metadata": {},
   "outputs": [],
   "source": [
    "model_rf.get_params()"
   ]
  },
  {
   "cell_type": "code",
   "execution_count": null,
   "id": "dc4a58cc",
   "metadata": {},
   "outputs": [],
   "source": [
    "# params_rf = {\n",
    "#     'n_estimators': 100,\n",
    "#     'max_depth': None,\n",
    "#     'min_samples_split': 2,\n",
    "#     'n_jobs': -1\n",
    "# }"
   ]
  },
  {
   "cell_type": "code",
   "execution_count": null,
   "id": "34667e64",
   "metadata": {},
   "outputs": [],
   "source": [
    "#gs = GridSearchCV(model_rf,params_rf,cv=5)"
   ]
  },
  {
   "cell_type": "code",
   "execution_count": null,
   "id": "a342c6f2",
   "metadata": {},
   "outputs": [],
   "source": [
    "#gs.fit(X_train,y_train)"
   ]
  },
  {
   "cell_type": "code",
   "execution_count": null,
   "id": "5aa1b658",
   "metadata": {},
   "outputs": [],
   "source": [
    "best_params_rf = params_rf\n",
    "best_params_rf"
   ]
  },
  {
   "cell_type": "code",
   "execution_count": null,
   "id": "4d1a2afc",
   "metadata": {},
   "outputs": [],
   "source": [
    "model_rf.set_params(**best_params_rf)"
   ]
  },
  {
   "cell_type": "code",
   "execution_count": null,
   "id": "37739154",
   "metadata": {},
   "outputs": [],
   "source": [
    "model_rf.fit(X_train,y_train)"
   ]
  },
  {
   "cell_type": "code",
   "execution_count": null,
   "id": "2d3b0f61",
   "metadata": {},
   "outputs": [],
   "source": [
    "y_pred_rf = model_rf.predict(X_test)\n",
    "score_rf = model_rf.score(X_test,y_test)\n",
    "score_rf\n",
    "\n",
    "# accuracy_rf = model_rf.score(X_test, y_test)\n",
    "# precision_rf = precision_score(y_test_rf, y_pred)\n",
    "# recall_rf = recall_score(y_test, y_pred_rf)\n",
    "# f1_rf = f1_score(y_test, y_pred_rf)"
   ]
  },
  {
   "cell_type": "code",
   "execution_count": null,
   "id": "ddf2cb41",
   "metadata": {},
   "outputs": [],
   "source": [
    "ConfusionMatrixDisplay.from_estimator(model_rf,X_test,y_test, cmap = 'Reds',normalize= 'true');\n",
    "plt.title(\"Confusion Matrix\");"
   ]
  },
  {
   "cell_type": "code",
   "execution_count": null,
   "id": "c15d050a",
   "metadata": {},
   "outputs": [],
   "source": []
  },
  {
   "cell_type": "code",
   "execution_count": null,
   "id": "3993e6a3",
   "metadata": {},
   "outputs": [],
   "source": []
  }
 ],
 "metadata": {
  "kernelspec": {
   "display_name": "Python 3 (ipykernel)",
   "language": "python",
   "name": "python3"
  },
  "language_info": {
   "codemirror_mode": {
    "name": "ipython",
    "version": 3
   },
   "file_extension": ".py",
   "mimetype": "text/x-python",
   "name": "python",
   "nbconvert_exporter": "python",
   "pygments_lexer": "ipython3",
   "version": "3.9.16"
  }
 },
 "nbformat": 4,
 "nbformat_minor": 5
}
