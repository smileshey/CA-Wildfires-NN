{
 "cells": [
  {
   "cell_type": "markdown",
   "id": "c3b9deee",
   "metadata": {},
   "source": [
    "# DSI Group Project\n",
    "#### Group 4\n",
    "Contributions by:\n",
    "Carl, Mary, Alex, Krishna, and Ryan Virgin"
   ]
  },
  {
   "cell_type": "markdown",
   "id": "aa13ee58",
   "metadata": {},
   "source": [
    "## Project Introduction"
   ]
  },
  {
   "cell_type": "code",
   "execution_count": null,
   "id": "e74f3b6f",
   "metadata": {},
   "outputs": [],
   "source": []
  },
  {
   "cell_type": "markdown",
   "id": "1ecd9fa0",
   "metadata": {},
   "source": [
    "## Dataset Introduction"
   ]
  },
  {
   "cell_type": "code",
   "execution_count": null,
   "id": "cc18e172",
   "metadata": {},
   "outputs": [],
   "source": []
  },
  {
   "cell_type": "code",
   "execution_count": null,
   "id": "a251e764",
   "metadata": {},
   "outputs": [],
   "source": []
  },
  {
   "cell_type": "code",
   "execution_count": null,
   "id": "016697f4",
   "metadata": {},
   "outputs": [],
   "source": []
  }
 ],
 "metadata": {
  "kernelspec": {
   "display_name": "Python 3 (ipykernel)",
   "language": "python",
   "name": "python3"
  },
  "language_info": {
   "codemirror_mode": {
    "name": "ipython",
    "version": 3
   },
   "file_extension": ".py",
   "mimetype": "text/x-python",
   "name": "python",
   "nbconvert_exporter": "python",
   "pygments_lexer": "ipython3",
   "version": "3.9.16"
  }
 },
 "nbformat": 4,
 "nbformat_minor": 5
}
