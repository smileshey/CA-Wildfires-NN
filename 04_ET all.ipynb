{
 "cells": [
  {
   "cell_type": "markdown",
   "id": "a265b145",
   "metadata": {},
   "source": [
    "# Extra Trees Classifier"
   ]
  },
  {
   "cell_type": "code",
   "execution_count": null,
   "id": "d3202479",
   "metadata": {},
   "outputs": [],
   "source": [
    "#imports\n",
    "import numpy as np\n",
    "import pandas as pd\n",
    "import matplotlib.pyplot as plt\n",
    "import requests\n",
    "import pickle\n",
    "import time\n",
    "import seaborn as sns\n",
    "\n",
    "from sklearn.preprocessing import StandardScaler\n",
    "from sklearn.model_selection import train_test_split, GridSearchCV\n",
    "from sklearn.ensemble import ExtraTreesClassifier\n",
    "from sklearn.metrics import confusion_matrix, ConfusionMatrixDisplay\n",
    "\n",
    "pd.set_option('display.max_columns', None)"
   ]
  },
  {
   "cell_type": "code",
   "execution_count": null,
   "id": "8b7eb3f5",
   "metadata": {},
   "outputs": [],
   "source": [
    "with open('pickles/df.pkl', 'rb') as f:\n",
    "    df = pickle.load(f)"
   ]
  },
  {
   "cell_type": "markdown",
   "id": "1c8e2937-a38f-40fa-a628-9576bb513a6a",
   "metadata": {},
   "source": [
    "# Creating a model. "
   ]
  },
  {
   "cell_type": "code",
   "execution_count": null,
   "id": "641f2560",
   "metadata": {
    "tags": []
   },
   "outputs": [],
   "source": [
    "X = df.drop([\"STAT_CAUSE_DESCR\", 'STATE'] , axis='columns')\n",
    "X = pd.get_dummies(columns=[ \n",
    "                            'SOURCE_SYSTEM_TYPE',\n",
    "                            'FIRE_SIZE_CLASS',\n",
    "                            'SOURCE_REPORTING_UNIT_NAME'\n",
    "                           ], \n",
    "                   drop_first=True, data=X)\n",
    "\n",
    "y = df['STAT_CAUSE_DESCR']"
   ]
  },
  {
   "cell_type": "code",
   "execution_count": null,
   "id": "8001813b",
   "metadata": {},
   "outputs": [],
   "source": [
    "null_model = y.value_counts(normalize= True)\n",
    "null_model"
   ]
  },
  {
   "cell_type": "code",
   "execution_count": null,
   "id": "482ee6bd",
   "metadata": {},
   "outputs": [],
   "source": [
    "X_train,X_test, y_train, y_test = train_test_split(X,y,test_size=.2,random_state=2023)"
   ]
  },
  {
   "cell_type": "code",
   "execution_count": null,
   "id": "f223d734-e81e-4a84-9aae-458849ee6685",
   "metadata": {},
   "outputs": [],
   "source": [
    "sc = StandardScaler()\n",
    "Z_train = sc.fit_transform(X_train)\n",
    "Z_test = sc.transform(X_test)"
   ]
  },
  {
   "cell_type": "code",
   "execution_count": null,
   "id": "b1004cbc",
   "metadata": {
    "tags": []
   },
   "outputs": [],
   "source": [
    "model_et = ExtraTreesClassifier()\n",
    "model_et.fit(Z_train, y_train)\n",
    "model_et.score(Z_test, y_test)"
   ]
  },
  {
   "cell_type": "code",
   "execution_count": null,
   "id": "0d01c1bd",
   "metadata": {},
   "outputs": [],
   "source": [
    "f,ax = plt.subplots(1,1,figsize=(7,7))\n",
    "cm= ConfusionMatrixDisplay.from_estimator(model_et,Z_test,y_test, cmap = 'Greens',\n",
    "                                          normalize= 'true', \n",
    "                                          xticks_rotation='vertical', \n",
    "                                          values_format='.1g', \n",
    "                                          ax=ax)\n",
    "plt.title(\"Confusion Matrix\")\n",
    "plt.grid(None)\n",
    "sns.set(font_scale=.9)\n",
    "plt.rcParams[\"figure.edgecolor\"] = \"#FAEEDA\"\n",
    "plt.rcParams[\"figure.facecolor\"] = \"#FAEEDA\"\n",
    ";"
   ]
  },
  {
   "cell_type": "code",
   "execution_count": null,
   "id": "293b2b7e-4ef7-4d9f-b729-a3eb2d875b36",
   "metadata": {},
   "outputs": [],
   "source": [
    "## tweaking the model\n",
    "rf_params = {\n",
    "    'n_estimators':[50, 100, 150],\n",
    "    'max_depth': [None, 4,8]\n",
    "}"
   ]
  },
  {
   "cell_type": "code",
   "execution_count": null,
   "id": "066fe450-55c7-4c54-9503-90af41330880",
   "metadata": {},
   "outputs": [],
   "source": [
    "gs= GridSearchCV(model_et, param_grid=rf_params, cv=5, n_jobs=-2)"
   ]
  },
  {
   "cell_type": "code",
   "execution_count": null,
   "id": "354cb0b1-c4e0-4831-9fc6-b76f1c08f623",
   "metadata": {},
   "outputs": [],
   "source": [
    "gs.fit(X_train, y_train)"
   ]
  },
  {
   "cell_type": "code",
   "execution_count": null,
   "id": "3f2ef0dc-fa6c-4b5d-b70c-386f6d5db9e8",
   "metadata": {},
   "outputs": [],
   "source": [
    "gs.best_score_"
   ]
  },
  {
   "cell_type": "code",
   "execution_count": null,
   "id": "ce6f3249-26f1-497d-9b42-a83ed31994f3",
   "metadata": {},
   "outputs": [],
   "source": [
    "gs.best_params_"
   ]
  },
  {
   "cell_type": "code",
   "execution_count": null,
   "id": "4559e75f-beb3-4da0-a221-4bcc2d152c00",
   "metadata": {},
   "outputs": [],
   "source": [
    "gs.get_params()"
   ]
  },
  {
   "cell_type": "code",
   "execution_count": null,
   "id": "4b3fb605-6ec9-42a8-9d37-be4925b56b93",
   "metadata": {},
   "outputs": [],
   "source": [
    "rf_params2 = {\n",
    "    'n_estimators':[200,500],\n",
    "    'max_depth': [None],\n",
    "    'min_samples_leaf':[1,2]\n",
    "}"
   ]
  },
  {
   "cell_type": "code",
   "execution_count": null,
   "id": "55b1fea3-3154-4e61-a6a4-de3c5db3f945",
   "metadata": {},
   "outputs": [],
   "source": [
    "gs2= GridSearchCV(model_et, param_grid=rf_params2, cv=5, n_jobs=-2)"
   ]
  },
  {
   "cell_type": "code",
   "execution_count": null,
   "id": "3d71ecd7-c7be-4d36-b327-643ca8b93d76",
   "metadata": {},
   "outputs": [],
   "source": [
    "gs2.fit(X_train, y_train)"
   ]
  },
  {
   "cell_type": "markdown",
   "id": "0fb5ca30-5a2e-431e-a031-8d568669bf9f",
   "metadata": {},
   "source": [
    "# BRF"
   ]
  },
  {
   "cell_type": "markdown",
   "id": "e89e542a-0626-4dfe-89cb-fda34c941155",
   "metadata": {},
   "source": [
    "# trim the fat"
   ]
  },
  {
   "cell_type": "code",
   "execution_count": null,
   "id": "0f7a1300-9220-436e-bc95-a7fe159989ad",
   "metadata": {},
   "outputs": [],
   "source": [
    "df.head()"
   ]
  },
  {
   "cell_type": "code",
   "execution_count": null,
   "id": "db5cab69-8761-480f-9e9e-4eb400bcfe41",
   "metadata": {},
   "outputs": [],
   "source": []
  },
  {
   "cell_type": "code",
   "execution_count": null,
   "id": "d5e26eb6-9000-4d75-96ca-2b9c271b0dda",
   "metadata": {},
   "outputs": [],
   "source": [
    "cause_map={'Lightning':0, 'Miscellaneous':1, 'Campfire':2,\n",
    "         'Equipment Use':3, 'Arson':4, 'Debris Burning':5, 'Smoking':6,\n",
    "         'Children':7, 'Railroad':8}\n",
    "df['class_number'] = df['STAT_CAUSE_DESCR'].map(cause_map)\n",
    "\n",
    "plt.figure(figsize = (8,8))\n",
    "\n",
    "corr = df.corr()[['class_number']].sort_values('class_number', ascending=False)\n",
    "\n",
    "mask = np.zeros_like(corr)\n",
    "mask[np.triu_indices_from(mask)] = True\n",
    "\n",
    "sns.set(font_scale=1)\n",
    "# Plot our correlation heatmap, while masking the upper triangle to be white.\n",
    "sns.heatmap(corr, mask = mask, square = True, cmap = 'twilight_shifted_r', annot = True, vmin = -1, vmax = 1);"
   ]
  },
  {
   "cell_type": "code",
   "execution_count": null,
   "id": "ebadb40a-ee11-4e63-845a-288372f006fb",
   "metadata": {},
   "outputs": [],
   "source": [
    "X = df[['duration','FIRE_SIZE','bdod','phh2o',\n",
    "         'clay', 'soc', 'sand', 'OWNER_DESCR']]\n",
    "\n",
    "X = pd.get_dummies(columns=['OWNER_DESCR'], drop_first=True, data=X)\n",
    "\n",
    "y = df['STAT_CAUSE_DESCR']"
   ]
  },
  {
   "cell_type": "code",
   "execution_count": null,
   "id": "a7ccc17a-ac6a-4ecc-be57-555df29682e2",
   "metadata": {},
   "outputs": [],
   "source": [
    "df.head()"
   ]
  },
  {
   "cell_type": "code",
   "execution_count": null,
   "id": "fb01078c-f490-4903-b077-8d66433247f2",
   "metadata": {},
   "outputs": [],
   "source": [
    "X_train,X_test, y_train, y_test = train_test_split(X,y,test_size=.2,random_state=2023)"
   ]
  },
  {
   "cell_type": "code",
   "execution_count": null,
   "id": "b44f9610-9718-40b1-bff8-ebc2ef4a4e09",
   "metadata": {},
   "outputs": [],
   "source": [
    "sc = StandardScaler()\n",
    "\n",
    "Z_train = sc.fit_transform(X_train)\n",
    "\n",
    "Z_test = sc.transform(X_test)\n"
   ]
  },
  {
   "cell_type": "code",
   "execution_count": null,
   "id": "de716c41-6023-49ec-979d-d328f0f07103",
   "metadata": {},
   "outputs": [],
   "source": [
    "model_et = ExtraTreesClassifier()\n",
    "model_et.fit(Z_train, y_train)\n",
    "model_et.score(Z_test, y_test)"
   ]
  },
  {
   "cell_type": "code",
   "execution_count": null,
   "id": "90814ab1",
   "metadata": {},
   "outputs": [],
   "source": []
  }
 ],
 "metadata": {
  "kernelspec": {
   "display_name": "Python 3 (ipykernel)",
   "language": "python",
   "name": "python3"
  },
  "language_info": {
   "codemirror_mode": {
    "name": "ipython",
    "version": 3
   },
   "file_extension": ".py",
   "mimetype": "text/x-python",
   "name": "python",
   "nbconvert_exporter": "python",
   "pygments_lexer": "ipython3",
   "version": "3.9.16"
  }
 },
 "nbformat": 4,
 "nbformat_minor": 5
}
