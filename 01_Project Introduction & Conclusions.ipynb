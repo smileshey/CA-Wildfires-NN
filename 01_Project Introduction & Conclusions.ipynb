{
 "cells": [
  {
   "cell_type": "markdown",
   "id": "c3b9deee",
   "metadata": {},
   "source": [
    "# Predicting Cause of Wildfires in California\n",
    "###  DSI Group #4\n",
    "##### Contributions by: Carl, Mary, Alex, Krishna, and Ryan Virgin"
   ]
  },
  {
   "cell_type": "markdown",
   "id": "aa13ee58",
   "metadata": {},
   "source": [
    "## Project Introduction"
   ]
  },
  {
   "cell_type": "markdown",
   "id": "f1af48cd",
   "metadata": {},
   "source": [
    "Wildfires are a significant global problem that has the potential to cause severe damage to the environment, economy, and human lives. In California, wildfires have been increasing in frequency and intensity in recent years, and identifying their cause is crucial for prevention and mitigation. This project aims to develop a predictive model that accurately identifies the cause of wildfires using various features, including soil composition, elevation data, and geocoordinates.\n",
    "\n",
    "To achieve this goal, we will analyze and model a dataset containing information on the statistical cause of fires. The project will involve implementing different data science techniques to develop a predictive model that can accurately identify the cause of a wildfire. By accurately predicting the cause of wildfires, we can identify effective prevention strategies, allocate resources efficiently, and improve the response time of fire organizations. The significance of this project lies in the potential catastrophic consequences of wildfires and the need to prevent them."
   ]
  },
  {
   "cell_type": "markdown",
   "id": "6ac706ce",
   "metadata": {},
   "source": [
    "## Problem Statement"
   ]
  },
  {
   "cell_type": "markdown",
   "id": "1dcbd58b",
   "metadata": {},
   "source": [
    "The aim of this project is to develop a predictive model that accurately identifies the cause of wildfires using various features. The dataset includes a target variable that provides information on the statistical cause of fires. The project will involve analyzing and modeling the data using different data science techniques to accurately predict the cause of a wildfire.\n",
    "\n",
    "The significance of this problem lies in the potential catastrophic consequences of wildfires and the need to prevent them. Accurate prediction of the cause of wildfires can help in identifying effective prevention strategies, allocating resources efficiently, and improving the response time of fire organizations. By identifying the cause of wildfires, we can better understand the factors that contribute to their occurrence and take steps to mitigate their impact on the environment and human lives."
   ]
  },
  {
   "cell_type": "markdown",
   "id": "ad958f8c",
   "metadata": {},
   "source": [
    "## Dataset Introduction"
   ]
  },
  {
   "cell_type": "markdown",
   "id": "ed45fd60",
   "metadata": {},
   "source": [
    "In this project, we have ensembled multiple datasets to enhance our analysis. Our primary dataset includes wildfire data collected in the United States from 1992 to 2013. We have filtered this dataset to only include wildfires in California during the same period. By utilizing the geocoordinates provided in the California wildfire data, we have extracted additional information on the natural environment, such as soil conditions and elevation. To obtain this information, we have utilized the SoilGrid API to access soil composition and characteristics of the soil's chemistry. Additionally, we called the Open-Meteo API to retrieve elevation data."
   ]
  },
  {
   "cell_type": "markdown",
   "id": "7151cac2",
   "metadata": {},
   "source": [
    "## Executive Summary"
   ]
  },
  {
   "cell_type": "markdown",
   "id": "43aabf70",
   "metadata": {},
   "source": [
    "The analysis of California wildfire data utilized a variety of data resources, including the robust Kaggle dataset for US Wildfires,the SoilGrid, and the Open-meteo API. The base dataset provided a wealth of information, including the coordinates of the wildfires, which enabled the identification of various natural environment attributes such as vegetation type and terrain, that played a critical role in developing an accurate classification model. The SoilGrid provided data on soil composition, while the Open-meteo API provided a wealth of information on weather patterns, including temperature, humidity, precipitation, wind speed, and elevation. The inclusion of elevation data enabled the analysis to identify elevation-dependent patterns in wildfire causes and further refine the classification model.\n",
    "\n",
    "The iterative process of developing and testing multiple models resulted in the selection of the Random Forest model as the most effective, which can assist in the accurate classification of wildfire causes with a 71% accuracy rate, significantly better than the baseline accuracy rate of 38%. However, the analysis found that the soil composition data was better suited for regression analysis rather than classification. Further improvements to the model could be made by gathering additional data resources such as distance to major cities, socioeconomic data, and weather data, which could help identify other factors that contribute to wildfire causes, such as human activity or natural phenomena.\n",
    "\n",
    "Overall, this analysis provides valuable insights into the factors that contribute to wildfires in California and offers a promising model that can aid in the accurate classification of wildfire causes. With further improvements and refinements, this model can assist public officials and first responders in developing more effective strategies to manage and prevent wildfires, ultimately reducing the impact of these devastating events. The use of multiple data resources highlights the importance of considering a broad range of environmental factors when developing wildfire classification models, as each factor can play a critical role in wildfire development and management."
   ]
  },
  {
   "cell_type": "markdown",
   "id": "52dc1b2d",
   "metadata": {},
   "source": [
    "## Conclusion"
   ]
  },
  {
   "cell_type": "markdown",
   "id": "c37a93ec",
   "metadata": {},
   "source": [
    "In conclusion, wildfires are a global problem that can cause severe damage to the environment, economy, and human lives. This project aimed to develop a predictive model that accurately identifies the cause of wildfires in California using various features such as soil composition, elevation data, and geocoordinates. By accurately predicting the cause of wildfires, we can identify effective prevention strategies, allocate resources efficiently, and improve the response time of fire organizations. The analysis utilized multiple data resources, resulting in a Random Forest model that accurately classifies wildfire causes with a 71% accuracy rate. Further improvements to the model can be made by gathering additional data resources to identify other factors that contribute to wildfire causes. Overall, this analysis provides valuable insights into the factors that contribute to wildfires in California and offers a promising model to assist in managing and preventing these devastating events.\n",
    "\n",
    "It is important to note that while the developed model offers promising results, it is not perfect and can be further improved. Additional data resources such as distance to major cities, socioeconomic data, and weather data could be added to identify other factors that contribute to wildfire causes, such as human activity or natural phenomena. With further refinements, this model can assist public officials and first responders in developing more effective strategies to manage and prevent wildfires, ultimately reducing the impact of these devastating events.\n",
    "\n",
    "Another aspect that could improve the model is to further define the \"Miscellaneous\" cause description in the dataset. This would enable the identification of additional trends and patterns in wildfire causes that are currently unaccounted for. By providing more detailed and specific descriptions of these causes, the model can better distinguish and accurately classify the causes of wildfires. This would ultimately lead to better prevention strategies and more efficient allocation of resources to manage wildfires."
   ]
  },
  {
   "cell_type": "markdown",
   "id": "469d34dd",
   "metadata": {},
   "source": [
    "###  Recommendations"
   ]
  },
  {
   "cell_type": "markdown",
   "id": "5d9697aa",
   "metadata": {},
   "source": [
    "1. Educate the community about the most common causes of wildfires in the area, such as lightning strikes, human activity, and equipment failure.\n",
    "2. Encourage citizens to report any suspicious activity or behavior that may lead to a fire.\n",
    "3. Train local firefighters and first responders to identify the cause of a fire and collect evidence for investigation, which will further improve this dataset\n",
    "4. Use technology such as drones and cameras to observe high-risk areas and gather data on environmental factors that could contribute to a fire’s occurrence.\n",
    "5. Gather additional data from the provided geocoordinates that may be more pertinent to identifying the cause of a wildfire"
   ]
  }
 ],
 "metadata": {
  "kernelspec": {
   "display_name": "Python 3 (ipykernel)",
   "language": "python",
   "name": "python3"
  },
  "language_info": {
   "codemirror_mode": {
    "name": "ipython",
    "version": 3
   },
   "file_extension": ".py",
   "mimetype": "text/x-python",
   "name": "python",
   "nbconvert_exporter": "python",
   "pygments_lexer": "ipython3",
   "version": "3.9.16"
  }
 },
 "nbformat": 4,
 "nbformat_minor": 5
}
