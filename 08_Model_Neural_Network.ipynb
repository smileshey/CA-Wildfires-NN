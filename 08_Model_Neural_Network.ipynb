{
 "cells": [
  {
   "cell_type": "markdown",
   "id": "e71422e4-b751-4d25-90e4-4c4536835930",
   "metadata": {},
   "source": [
    "## Model: Dense Neural Network"
   ]
  },
  {
   "cell_type": "code",
   "execution_count": 1,
   "id": "d3202479",
   "metadata": {},
   "outputs": [],
   "source": [
    "#imports\n",
    "import numpy as np\n",
    "import pandas as pd\n",
    "import matplotlib.pyplot as plt\n",
    "import requests\n",
    "import pickle\n",
    "import time\n",
    "\n",
    "from sklearn.model_selection import train_test_split, GridSearchCV\n",
    "from sklearn.preprocessing import StandardScaler\n",
    "from sklearn.pipeline import Pipeline\n",
    "from sklearn.linear_model import LogisticRegression\n",
    "from sklearn.ensemble import RandomForestClassifier, GradientBoostingClassifier,RandomForestRegressor\n",
    "from sklearn.svm import SVC\n",
    "from sklearn.metrics import confusion_matrix, ConfusionMatrixDisplay\n",
    "\n",
    "from tensorflow.keras.models import Sequential\n",
    "from tensorflow.keras.layers import Dense, Dropout, BatchNormalization\n",
    "from tensorflow.keras.callbacks import EarlyStopping\n",
    "from tensorflow.keras.losses import CategoricalCrossentropy\n",
    "from tensorflow import math\n",
    "\n",
    "pd.set_option('display.max_columns', None)"
   ]
  },
  {
   "cell_type": "markdown",
   "id": "33d7c32e-8024-4523-a289-4d6e19d63638",
   "metadata": {},
   "source": [
    "#### Loading the Dataframe"
   ]
  },
  {
   "cell_type": "code",
   "execution_count": 2,
   "id": "47bc41e2-3b78-4af9-8c0b-163b319936cd",
   "metadata": {},
   "outputs": [],
   "source": [
    "with open('pickles/df.pkl', 'rb') as f:\n",
    "    df = pickle.load(f)\n",
    "    \n",
    "df.columns = df.columns.str.lower()"
   ]
  },
  {
   "cell_type": "code",
   "execution_count": 3,
   "id": "842f1c90-024d-4ee9-8940-b9e9ea1433b9",
   "metadata": {},
   "outputs": [
    {
     "data": {
      "text/html": [
       "<div>\n",
       "<style scoped>\n",
       "    .dataframe tbody tr th:only-of-type {\n",
       "        vertical-align: middle;\n",
       "    }\n",
       "\n",
       "    .dataframe tbody tr th {\n",
       "        vertical-align: top;\n",
       "    }\n",
       "\n",
       "    .dataframe thead th {\n",
       "        text-align: right;\n",
       "    }\n",
       "</style>\n",
       "<table border=\"1\" class=\"dataframe\">\n",
       "  <thead>\n",
       "    <tr style=\"text-align: right;\">\n",
       "      <th></th>\n",
       "      <th>discovery_doy</th>\n",
       "      <th>stat_cause_descr</th>\n",
       "      <th>state</th>\n",
       "      <th>source_system_type</th>\n",
       "      <th>duration</th>\n",
       "      <th>fire_size_class</th>\n",
       "      <th>latitude</th>\n",
       "      <th>longitude</th>\n",
       "      <th>source_reporting_unit_name</th>\n",
       "      <th>fire_year</th>\n",
       "      <th>fire_size</th>\n",
       "      <th>elevation</th>\n",
       "      <th>bdod</th>\n",
       "      <th>cec</th>\n",
       "      <th>cfvo</th>\n",
       "      <th>clay</th>\n",
       "      <th>nitrogen</th>\n",
       "      <th>phh2o</th>\n",
       "      <th>sand</th>\n",
       "      <th>silt</th>\n",
       "      <th>soc</th>\n",
       "    </tr>\n",
       "  </thead>\n",
       "  <tbody>\n",
       "    <tr>\n",
       "      <th>1</th>\n",
       "      <td>133</td>\n",
       "      <td>Lightning</td>\n",
       "      <td>CA</td>\n",
       "      <td>FED</td>\n",
       "      <td>0.0</td>\n",
       "      <td>A</td>\n",
       "      <td>38.933056</td>\n",
       "      <td>-120.404444</td>\n",
       "      <td>Eldorado National Forest</td>\n",
       "      <td>2004</td>\n",
       "      <td>0.25</td>\n",
       "      <td>1842</td>\n",
       "      <td>102.0</td>\n",
       "      <td>335.0</td>\n",
       "      <td>246.0</td>\n",
       "      <td>140.0</td>\n",
       "      <td>466.0</td>\n",
       "      <td>58.0</td>\n",
       "      <td>550.0</td>\n",
       "      <td>309.0</td>\n",
       "      <td>741.0</td>\n",
       "    </tr>\n",
       "    <tr>\n",
       "      <th>2</th>\n",
       "      <td>152</td>\n",
       "      <td>Negligence</td>\n",
       "      <td>CA</td>\n",
       "      <td>FED</td>\n",
       "      <td>0.0</td>\n",
       "      <td>A</td>\n",
       "      <td>38.984167</td>\n",
       "      <td>-120.735556</td>\n",
       "      <td>Eldorado National Forest</td>\n",
       "      <td>2004</td>\n",
       "      <td>0.10</td>\n",
       "      <td>1067</td>\n",
       "      <td>119.0</td>\n",
       "      <td>213.0</td>\n",
       "      <td>137.0</td>\n",
       "      <td>244.0</td>\n",
       "      <td>343.0</td>\n",
       "      <td>58.0</td>\n",
       "      <td>331.0</td>\n",
       "      <td>425.0</td>\n",
       "      <td>573.0</td>\n",
       "    </tr>\n",
       "    <tr>\n",
       "      <th>3</th>\n",
       "      <td>180</td>\n",
       "      <td>Lightning</td>\n",
       "      <td>CA</td>\n",
       "      <td>FED</td>\n",
       "      <td>5.0</td>\n",
       "      <td>A</td>\n",
       "      <td>38.559167</td>\n",
       "      <td>-119.913333</td>\n",
       "      <td>Eldorado National Forest</td>\n",
       "      <td>2004</td>\n",
       "      <td>0.10</td>\n",
       "      <td>2365</td>\n",
       "      <td>110.0</td>\n",
       "      <td>129.0</td>\n",
       "      <td>216.0</td>\n",
       "      <td>66.0</td>\n",
       "      <td>201.0</td>\n",
       "      <td>55.0</td>\n",
       "      <td>755.0</td>\n",
       "      <td>179.0</td>\n",
       "      <td>458.0</td>\n",
       "    </tr>\n",
       "    <tr>\n",
       "      <th>4</th>\n",
       "      <td>180</td>\n",
       "      <td>Lightning</td>\n",
       "      <td>CA</td>\n",
       "      <td>FED</td>\n",
       "      <td>5.0</td>\n",
       "      <td>A</td>\n",
       "      <td>38.559167</td>\n",
       "      <td>-119.933056</td>\n",
       "      <td>Eldorado National Forest</td>\n",
       "      <td>2004</td>\n",
       "      <td>0.10</td>\n",
       "      <td>2316</td>\n",
       "      <td>118.0</td>\n",
       "      <td>137.0</td>\n",
       "      <td>212.0</td>\n",
       "      <td>68.0</td>\n",
       "      <td>156.0</td>\n",
       "      <td>55.0</td>\n",
       "      <td>740.0</td>\n",
       "      <td>192.0</td>\n",
       "      <td>410.0</td>\n",
       "    </tr>\n",
       "    <tr>\n",
       "      <th>5</th>\n",
       "      <td>182</td>\n",
       "      <td>Lightning</td>\n",
       "      <td>CA</td>\n",
       "      <td>FED</td>\n",
       "      <td>1.0</td>\n",
       "      <td>A</td>\n",
       "      <td>38.635278</td>\n",
       "      <td>-120.103611</td>\n",
       "      <td>Eldorado National Forest</td>\n",
       "      <td>2004</td>\n",
       "      <td>0.10</td>\n",
       "      <td>2541</td>\n",
       "      <td>108.0</td>\n",
       "      <td>204.0</td>\n",
       "      <td>230.0</td>\n",
       "      <td>66.0</td>\n",
       "      <td>283.0</td>\n",
       "      <td>55.0</td>\n",
       "      <td>697.0</td>\n",
       "      <td>237.0</td>\n",
       "      <td>509.0</td>\n",
       "    </tr>\n",
       "  </tbody>\n",
       "</table>\n",
       "</div>"
      ],
      "text/plain": [
       "   discovery_doy stat_cause_descr state source_system_type  duration  \\\n",
       "1            133        Lightning    CA                FED       0.0   \n",
       "2            152       Negligence    CA                FED       0.0   \n",
       "3            180        Lightning    CA                FED       5.0   \n",
       "4            180        Lightning    CA                FED       5.0   \n",
       "5            182        Lightning    CA                FED       1.0   \n",
       "\n",
       "  fire_size_class   latitude   longitude source_reporting_unit_name  \\\n",
       "1               A  38.933056 -120.404444   Eldorado National Forest   \n",
       "2               A  38.984167 -120.735556   Eldorado National Forest   \n",
       "3               A  38.559167 -119.913333   Eldorado National Forest   \n",
       "4               A  38.559167 -119.933056   Eldorado National Forest   \n",
       "5               A  38.635278 -120.103611   Eldorado National Forest   \n",
       "\n",
       "   fire_year  fire_size  elevation   bdod    cec   cfvo   clay  nitrogen  \\\n",
       "1       2004       0.25       1842  102.0  335.0  246.0  140.0     466.0   \n",
       "2       2004       0.10       1067  119.0  213.0  137.0  244.0     343.0   \n",
       "3       2004       0.10       2365  110.0  129.0  216.0   66.0     201.0   \n",
       "4       2004       0.10       2316  118.0  137.0  212.0   68.0     156.0   \n",
       "5       2004       0.10       2541  108.0  204.0  230.0   66.0     283.0   \n",
       "\n",
       "   phh2o   sand   silt    soc  \n",
       "1   58.0  550.0  309.0  741.0  \n",
       "2   58.0  331.0  425.0  573.0  \n",
       "3   55.0  755.0  179.0  458.0  \n",
       "4   55.0  740.0  192.0  410.0  \n",
       "5   55.0  697.0  237.0  509.0  "
      ]
     },
     "execution_count": 3,
     "metadata": {},
     "output_type": "execute_result"
    }
   ],
   "source": [
    "df.head()"
   ]
  },
  {
   "cell_type": "code",
   "execution_count": 4,
   "id": "ccd8efa3-e317-47f2-815f-8f6ea8646b02",
   "metadata": {},
   "outputs": [
    {
     "data": {
      "text/plain": [
       "(52206, 21)"
      ]
     },
     "execution_count": 4,
     "metadata": {},
     "output_type": "execute_result"
    }
   ],
   "source": [
    "df.shape"
   ]
  },
  {
   "cell_type": "code",
   "execution_count": 5,
   "id": "0c87337f-a53e-4829-93d0-0e13898ff90e",
   "metadata": {
    "tags": []
   },
   "outputs": [
    {
     "data": {
      "text/plain": [
       "Lightning         19825\n",
       "Negligence        13595\n",
       "Infrastructure     9829\n",
       "Arson              8957\n",
       "Name: stat_cause_descr, dtype: int64"
      ]
     },
     "execution_count": 5,
     "metadata": {},
     "output_type": "execute_result"
    }
   ],
   "source": [
    "df['stat_cause_descr'].value_counts()"
   ]
  },
  {
   "cell_type": "markdown",
   "id": "28881127",
   "metadata": {},
   "source": [
    "#### One-Hot Encoding"
   ]
  },
  {
   "cell_type": "code",
   "execution_count": 6,
   "id": "d3f2805b",
   "metadata": {},
   "outputs": [],
   "source": [
    "categorical = ['state','source_system_type']\n",
    "numeric = ['discovery_doy','duration', 'latitude', 'longitude',\n",
    "           'cec', 'cfvo', 'clay', 'phh2o', 'sand', 'silt', 'soc',           \n",
    "           'bdod', 'nitrogen', 'fire_size', 'elevation', 'fire_year']"
   ]
  },
  {
   "cell_type": "code",
   "execution_count": 7,
   "id": "b730b22d",
   "metadata": {},
   "outputs": [],
   "source": [
    "df_dum = pd.get_dummies(df[categorical],drop_first= True)\n",
    "df_num = df[numeric]"
   ]
  },
  {
   "cell_type": "markdown",
   "id": "ff1b5665",
   "metadata": {},
   "source": [
    "#### Defining X and y"
   ]
  },
  {
   "cell_type": "code",
   "execution_count": 8,
   "id": "81f31760",
   "metadata": {
    "scrolled": true
   },
   "outputs": [],
   "source": [
    "X = pd.concat([df_num,df_dum],axis=1)\n",
    "y = df['stat_cause_descr'].map({'Lightning': 0, 'Negligence': 1, 'Infrastructure': 2, 'Arson': 3})"
   ]
  },
  {
   "cell_type": "markdown",
   "id": "65813df9-2851-4bb1-b2b6-f575b7bb30ef",
   "metadata": {},
   "source": [
    "#### Train/Test Split"
   ]
  },
  {
   "cell_type": "code",
   "execution_count": 9,
   "id": "482ee6bd",
   "metadata": {},
   "outputs": [],
   "source": [
    "X_train, X_test, y_train, y_test = train_test_split(X,y,test_size=.2,random_state=2023)"
   ]
  },
  {
   "cell_type": "markdown",
   "id": "75aa1ca9-6bcc-4b2e-9db6-1a45802b509c",
   "metadata": {},
   "source": [
    "#### Standard Scaling"
   ]
  },
  {
   "cell_type": "code",
   "execution_count": 10,
   "id": "35038b91",
   "metadata": {},
   "outputs": [],
   "source": [
    "ss = StandardScaler()\n",
    "Z_train = ss.fit_transform(X_train)\n",
    "Z_test = ss.transform(X_test)"
   ]
  },
  {
   "cell_type": "markdown",
   "id": "9548badc",
   "metadata": {
    "tags": []
   },
   "source": [
    "#### Baseline"
   ]
  },
  {
   "cell_type": "code",
   "execution_count": 11,
   "id": "4acb3856",
   "metadata": {},
   "outputs": [
    {
     "data": {
      "text/plain": [
       "0    0.379746\n",
       "1    0.260411\n",
       "2    0.188273\n",
       "3    0.171570\n",
       "Name: stat_cause_descr, dtype: float64"
      ]
     },
     "execution_count": 11,
     "metadata": {},
     "output_type": "execute_result"
    }
   ],
   "source": [
    "null_model = y.value_counts(normalize= True)\n",
    "null_model"
   ]
  },
  {
   "cell_type": "code",
   "execution_count": 12,
   "id": "310f571e",
   "metadata": {},
   "outputs": [],
   "source": [
    "model_rf = RandomForestClassifier()"
   ]
  },
  {
   "cell_type": "code",
   "execution_count": 13,
   "id": "d003c563",
   "metadata": {},
   "outputs": [
    {
     "data": {
      "text/plain": [
       "{'bootstrap': True,\n",
       " 'ccp_alpha': 0.0,\n",
       " 'class_weight': None,\n",
       " 'criterion': 'gini',\n",
       " 'max_depth': None,\n",
       " 'max_features': 'sqrt',\n",
       " 'max_leaf_nodes': None,\n",
       " 'max_samples': None,\n",
       " 'min_impurity_decrease': 0.0,\n",
       " 'min_samples_leaf': 1,\n",
       " 'min_samples_split': 2,\n",
       " 'min_weight_fraction_leaf': 0.0,\n",
       " 'n_estimators': 100,\n",
       " 'n_jobs': None,\n",
       " 'oob_score': False,\n",
       " 'random_state': None,\n",
       " 'verbose': 0,\n",
       " 'warm_start': False}"
      ]
     },
     "execution_count": 13,
     "metadata": {},
     "output_type": "execute_result"
    }
   ],
   "source": [
    "model_rf.get_params()"
   ]
  },
  {
   "cell_type": "code",
   "execution_count": 14,
   "id": "da62b1ca",
   "metadata": {},
   "outputs": [],
   "source": [
    "params_rf = {\n",
    "    'n_estimators': 100,\n",
    "    'max_depth': None,\n",
    "    'min_samples_split': 2,\n",
    "    'n_jobs': -1\n",
    "}"
   ]
  },
  {
   "cell_type": "code",
   "execution_count": 15,
   "id": "bf0d4553",
   "metadata": {},
   "outputs": [],
   "source": [
    "#gs = GridSearchCV(model_rf,params_rf,cv=5)"
   ]
  },
  {
   "cell_type": "code",
   "execution_count": 16,
   "id": "c4f6446c",
   "metadata": {},
   "outputs": [],
   "source": [
    "#gs.fit(X_train,y_train)"
   ]
  },
  {
   "cell_type": "code",
   "execution_count": 17,
   "id": "50dce474",
   "metadata": {},
   "outputs": [
    {
     "data": {
      "text/plain": [
       "{'n_estimators': 100, 'max_depth': None, 'min_samples_split': 2, 'n_jobs': -1}"
      ]
     },
     "execution_count": 17,
     "metadata": {},
     "output_type": "execute_result"
    }
   ],
   "source": [
    "best_params_rf = params_rf\n",
    "best_params_rf"
   ]
  },
  {
   "cell_type": "code",
   "execution_count": 18,
   "id": "83f03009",
   "metadata": {},
   "outputs": [
    {
     "data": {
      "text/html": [
       "<style>#sk-container-id-1 {color: black;background-color: white;}#sk-container-id-1 pre{padding: 0;}#sk-container-id-1 div.sk-toggleable {background-color: white;}#sk-container-id-1 label.sk-toggleable__label {cursor: pointer;display: block;width: 100%;margin-bottom: 0;padding: 0.3em;box-sizing: border-box;text-align: center;}#sk-container-id-1 label.sk-toggleable__label-arrow:before {content: \"▸\";float: left;margin-right: 0.25em;color: #696969;}#sk-container-id-1 label.sk-toggleable__label-arrow:hover:before {color: black;}#sk-container-id-1 div.sk-estimator:hover label.sk-toggleable__label-arrow:before {color: black;}#sk-container-id-1 div.sk-toggleable__content {max-height: 0;max-width: 0;overflow: hidden;text-align: left;background-color: #f0f8ff;}#sk-container-id-1 div.sk-toggleable__content pre {margin: 0.2em;color: black;border-radius: 0.25em;background-color: #f0f8ff;}#sk-container-id-1 input.sk-toggleable__control:checked~div.sk-toggleable__content {max-height: 200px;max-width: 100%;overflow: auto;}#sk-container-id-1 input.sk-toggleable__control:checked~label.sk-toggleable__label-arrow:before {content: \"▾\";}#sk-container-id-1 div.sk-estimator input.sk-toggleable__control:checked~label.sk-toggleable__label {background-color: #d4ebff;}#sk-container-id-1 div.sk-label input.sk-toggleable__control:checked~label.sk-toggleable__label {background-color: #d4ebff;}#sk-container-id-1 input.sk-hidden--visually {border: 0;clip: rect(1px 1px 1px 1px);clip: rect(1px, 1px, 1px, 1px);height: 1px;margin: -1px;overflow: hidden;padding: 0;position: absolute;width: 1px;}#sk-container-id-1 div.sk-estimator {font-family: monospace;background-color: #f0f8ff;border: 1px dotted black;border-radius: 0.25em;box-sizing: border-box;margin-bottom: 0.5em;}#sk-container-id-1 div.sk-estimator:hover {background-color: #d4ebff;}#sk-container-id-1 div.sk-parallel-item::after {content: \"\";width: 100%;border-bottom: 1px solid gray;flex-grow: 1;}#sk-container-id-1 div.sk-label:hover label.sk-toggleable__label {background-color: #d4ebff;}#sk-container-id-1 div.sk-serial::before {content: \"\";position: absolute;border-left: 1px solid gray;box-sizing: border-box;top: 0;bottom: 0;left: 50%;z-index: 0;}#sk-container-id-1 div.sk-serial {display: flex;flex-direction: column;align-items: center;background-color: white;padding-right: 0.2em;padding-left: 0.2em;position: relative;}#sk-container-id-1 div.sk-item {position: relative;z-index: 1;}#sk-container-id-1 div.sk-parallel {display: flex;align-items: stretch;justify-content: center;background-color: white;position: relative;}#sk-container-id-1 div.sk-item::before, #sk-container-id-1 div.sk-parallel-item::before {content: \"\";position: absolute;border-left: 1px solid gray;box-sizing: border-box;top: 0;bottom: 0;left: 50%;z-index: -1;}#sk-container-id-1 div.sk-parallel-item {display: flex;flex-direction: column;z-index: 1;position: relative;background-color: white;}#sk-container-id-1 div.sk-parallel-item:first-child::after {align-self: flex-end;width: 50%;}#sk-container-id-1 div.sk-parallel-item:last-child::after {align-self: flex-start;width: 50%;}#sk-container-id-1 div.sk-parallel-item:only-child::after {width: 0;}#sk-container-id-1 div.sk-dashed-wrapped {border: 1px dashed gray;margin: 0 0.4em 0.5em 0.4em;box-sizing: border-box;padding-bottom: 0.4em;background-color: white;}#sk-container-id-1 div.sk-label label {font-family: monospace;font-weight: bold;display: inline-block;line-height: 1.2em;}#sk-container-id-1 div.sk-label-container {text-align: center;}#sk-container-id-1 div.sk-container {/* jupyter's `normalize.less` sets `[hidden] { display: none; }` but bootstrap.min.css set `[hidden] { display: none !important; }` so we also need the `!important` here to be able to override the default hidden behavior on the sphinx rendered scikit-learn.org. See: https://github.com/scikit-learn/scikit-learn/issues/21755 */display: inline-block !important;position: relative;}#sk-container-id-1 div.sk-text-repr-fallback {display: none;}</style><div id=\"sk-container-id-1\" class=\"sk-top-container\"><div class=\"sk-text-repr-fallback\"><pre>RandomForestClassifier(n_jobs=-1)</pre><b>In a Jupyter environment, please rerun this cell to show the HTML representation or trust the notebook. <br />On GitHub, the HTML representation is unable to render, please try loading this page with nbviewer.org.</b></div><div class=\"sk-container\" hidden><div class=\"sk-item\"><div class=\"sk-estimator sk-toggleable\"><input class=\"sk-toggleable__control sk-hidden--visually\" id=\"sk-estimator-id-1\" type=\"checkbox\" checked><label for=\"sk-estimator-id-1\" class=\"sk-toggleable__label sk-toggleable__label-arrow\">RandomForestClassifier</label><div class=\"sk-toggleable__content\"><pre>RandomForestClassifier(n_jobs=-1)</pre></div></div></div></div></div>"
      ],
      "text/plain": [
       "RandomForestClassifier(n_jobs=-1)"
      ]
     },
     "execution_count": 18,
     "metadata": {},
     "output_type": "execute_result"
    }
   ],
   "source": [
    "model_rf.set_params(**best_params_rf)"
   ]
  },
  {
   "cell_type": "code",
   "execution_count": 19,
   "id": "24977f31",
   "metadata": {},
   "outputs": [
    {
     "data": {
      "text/html": [
       "<style>#sk-container-id-2 {color: black;background-color: white;}#sk-container-id-2 pre{padding: 0;}#sk-container-id-2 div.sk-toggleable {background-color: white;}#sk-container-id-2 label.sk-toggleable__label {cursor: pointer;display: block;width: 100%;margin-bottom: 0;padding: 0.3em;box-sizing: border-box;text-align: center;}#sk-container-id-2 label.sk-toggleable__label-arrow:before {content: \"▸\";float: left;margin-right: 0.25em;color: #696969;}#sk-container-id-2 label.sk-toggleable__label-arrow:hover:before {color: black;}#sk-container-id-2 div.sk-estimator:hover label.sk-toggleable__label-arrow:before {color: black;}#sk-container-id-2 div.sk-toggleable__content {max-height: 0;max-width: 0;overflow: hidden;text-align: left;background-color: #f0f8ff;}#sk-container-id-2 div.sk-toggleable__content pre {margin: 0.2em;color: black;border-radius: 0.25em;background-color: #f0f8ff;}#sk-container-id-2 input.sk-toggleable__control:checked~div.sk-toggleable__content {max-height: 200px;max-width: 100%;overflow: auto;}#sk-container-id-2 input.sk-toggleable__control:checked~label.sk-toggleable__label-arrow:before {content: \"▾\";}#sk-container-id-2 div.sk-estimator input.sk-toggleable__control:checked~label.sk-toggleable__label {background-color: #d4ebff;}#sk-container-id-2 div.sk-label input.sk-toggleable__control:checked~label.sk-toggleable__label {background-color: #d4ebff;}#sk-container-id-2 input.sk-hidden--visually {border: 0;clip: rect(1px 1px 1px 1px);clip: rect(1px, 1px, 1px, 1px);height: 1px;margin: -1px;overflow: hidden;padding: 0;position: absolute;width: 1px;}#sk-container-id-2 div.sk-estimator {font-family: monospace;background-color: #f0f8ff;border: 1px dotted black;border-radius: 0.25em;box-sizing: border-box;margin-bottom: 0.5em;}#sk-container-id-2 div.sk-estimator:hover {background-color: #d4ebff;}#sk-container-id-2 div.sk-parallel-item::after {content: \"\";width: 100%;border-bottom: 1px solid gray;flex-grow: 1;}#sk-container-id-2 div.sk-label:hover label.sk-toggleable__label {background-color: #d4ebff;}#sk-container-id-2 div.sk-serial::before {content: \"\";position: absolute;border-left: 1px solid gray;box-sizing: border-box;top: 0;bottom: 0;left: 50%;z-index: 0;}#sk-container-id-2 div.sk-serial {display: flex;flex-direction: column;align-items: center;background-color: white;padding-right: 0.2em;padding-left: 0.2em;position: relative;}#sk-container-id-2 div.sk-item {position: relative;z-index: 1;}#sk-container-id-2 div.sk-parallel {display: flex;align-items: stretch;justify-content: center;background-color: white;position: relative;}#sk-container-id-2 div.sk-item::before, #sk-container-id-2 div.sk-parallel-item::before {content: \"\";position: absolute;border-left: 1px solid gray;box-sizing: border-box;top: 0;bottom: 0;left: 50%;z-index: -1;}#sk-container-id-2 div.sk-parallel-item {display: flex;flex-direction: column;z-index: 1;position: relative;background-color: white;}#sk-container-id-2 div.sk-parallel-item:first-child::after {align-self: flex-end;width: 50%;}#sk-container-id-2 div.sk-parallel-item:last-child::after {align-self: flex-start;width: 50%;}#sk-container-id-2 div.sk-parallel-item:only-child::after {width: 0;}#sk-container-id-2 div.sk-dashed-wrapped {border: 1px dashed gray;margin: 0 0.4em 0.5em 0.4em;box-sizing: border-box;padding-bottom: 0.4em;background-color: white;}#sk-container-id-2 div.sk-label label {font-family: monospace;font-weight: bold;display: inline-block;line-height: 1.2em;}#sk-container-id-2 div.sk-label-container {text-align: center;}#sk-container-id-2 div.sk-container {/* jupyter's `normalize.less` sets `[hidden] { display: none; }` but bootstrap.min.css set `[hidden] { display: none !important; }` so we also need the `!important` here to be able to override the default hidden behavior on the sphinx rendered scikit-learn.org. See: https://github.com/scikit-learn/scikit-learn/issues/21755 */display: inline-block !important;position: relative;}#sk-container-id-2 div.sk-text-repr-fallback {display: none;}</style><div id=\"sk-container-id-2\" class=\"sk-top-container\"><div class=\"sk-text-repr-fallback\"><pre>RandomForestClassifier(n_jobs=-1)</pre><b>In a Jupyter environment, please rerun this cell to show the HTML representation or trust the notebook. <br />On GitHub, the HTML representation is unable to render, please try loading this page with nbviewer.org.</b></div><div class=\"sk-container\" hidden><div class=\"sk-item\"><div class=\"sk-estimator sk-toggleable\"><input class=\"sk-toggleable__control sk-hidden--visually\" id=\"sk-estimator-id-2\" type=\"checkbox\" checked><label for=\"sk-estimator-id-2\" class=\"sk-toggleable__label sk-toggleable__label-arrow\">RandomForestClassifier</label><div class=\"sk-toggleable__content\"><pre>RandomForestClassifier(n_jobs=-1)</pre></div></div></div></div></div>"
      ],
      "text/plain": [
       "RandomForestClassifier(n_jobs=-1)"
      ]
     },
     "execution_count": 19,
     "metadata": {},
     "output_type": "execute_result"
    }
   ],
   "source": [
    "model_rf.fit(X_train,y_train)"
   ]
  },
  {
   "cell_type": "code",
   "execution_count": 20,
   "id": "597f8174",
   "metadata": {},
   "outputs": [
    {
     "data": {
      "text/plain": [
       "0.7008235970120666"
      ]
     },
     "execution_count": 20,
     "metadata": {},
     "output_type": "execute_result"
    }
   ],
   "source": [
    "y_pred_rf = model_rf.predict(X_test)\n",
    "score_rf = model_rf.score(X_test,y_test)\n",
    "score_rf\n",
    "\n",
    "# accuracy_rf = model_rf.score(X_test, y_test)\n",
    "# precision_rf = precision_score(y_test_rf, y_pred)\n",
    "# recall_rf = recall_score(y_test, y_pred_rf)\n",
    "# f1_rf = f1_score(y_test, y_pred_rf)"
   ]
  },
  {
   "cell_type": "code",
   "execution_count": 21,
   "id": "b1004cbc",
   "metadata": {},
   "outputs": [
    {
     "data": {
      "image/png": "[encoded data removed]",
      "text/plain": [
       "<Figure size 640x480 with 2 Axes>"
      ]
     },
     "metadata": {},
     "output_type": "display_data"
    }
   ],
   "source": [
    "ConfusionMatrixDisplay.from_estimator(model_rf,X_test,y_test, cmap = 'Reds',normalize= 'true');\n",
    "plt.title(\"Confusion Matrix\");"
   ]
  },
  {
   "cell_type": "markdown",
   "id": "72bf8ad9-0243-4e33-926e-2e97473dcee0",
   "metadata": {},
   "source": [
    "### The Model"
   ]
  },
  {
   "cell_type": "code",
   "execution_count": 22,
   "id": "b6b55929-1f3b-46ff-8856-015e3edfd3cf",
   "metadata": {},
   "outputs": [],
   "source": [
    "es = EarlyStopping(monitor='val_loss', patience=7, verbose=1)"
   ]
  },
  {
   "cell_type": "code",
   "execution_count": 23,
   "id": "aee51682-7fcb-4717-abb5-f6d8e9f3b18b",
   "metadata": {},
   "outputs": [
    {
     "name": "stdout",
     "output_type": "stream",
     "text": [
      "Metal device set to: Apple M1 Max\n",
      "Epoch 1/70\n"
     ]
    },
    {
     "name": "stderr",
     "output_type": "stream",
     "text": [
      "2023-03-23 19:43:18.264641: I tensorflow/core/common_runtime/pluggable_device/pluggable_device_factory.cc:305] Could not identify NUMA node of platform GPU ID 0, defaulting to 0. Your kernel may not have been built with NUMA support.\n",
      "2023-03-23 19:43:18.264765: I tensorflow/core/common_runtime/pluggable_device/pluggable_device_factory.cc:271] Created TensorFlow device (/job:localhost/replica:0/task:0/device:GPU:0 with 0 MB memory) -> physical PluggableDevice (device: 0, name: METAL, pci bus id: <undefined>)\n",
      "2023-03-23 19:43:18.431830: W tensorflow/core/platform/profile_utils/cpu_utils.cc:128] Failed to get CPU frequency: 0 Hz\n",
      "2023-03-23 19:43:19.151813: I tensorflow/core/grappler/optimizers/custom_graph_optimizer_registry.cc:113] Plugin optimizer for device_type GPU is enabled.\n"
     ]
    },
    {
     "name": "stdout",
     "output_type": "stream",
     "text": [
      "327/327 [==============================] - ETA: 0s - loss: 1.0913 - acc: 0.5577"
     ]
    },
    {
     "name": "stderr",
     "output_type": "stream",
     "text": [
      "2023-03-23 19:43:41.052031: I tensorflow/core/grappler/optimizers/custom_graph_optimizer_registry.cc:113] Plugin optimizer for device_type GPU is enabled.\n"
     ]
    },
    {
     "name": "stdout",
     "output_type": "stream",
     "text": [
      "327/327 [==============================] - 24s 65ms/step - loss: 1.0913 - acc: 0.5577 - val_loss: 0.9270 - val_acc: 0.5989\n",
      "Epoch 2/70\n",
      "327/327 [==============================] - 7s 23ms/step - loss: 0.9482 - acc: 0.5987 - val_loss: 0.8905 - val_acc: 0.6271\n",
      "Epoch 3/70\n",
      "327/327 [==============================] - 7s 21ms/step - loss: 0.9211 - acc: 0.6142 - val_loss: 0.8810 - val_acc: 0.6382\n",
      "Epoch 4/70\n",
      "327/327 [==============================] - 6s 17ms/step - loss: 0.9088 - acc: 0.6223 - val_loss: 0.8744 - val_acc: 0.6386\n",
      "Epoch 5/70\n",
      "327/327 [==============================] - 5s 16ms/step - loss: 0.8971 - acc: 0.6266 - val_loss: 0.8664 - val_acc: 0.6426\n",
      "Epoch 6/70\n",
      "327/327 [==============================] - 5s 16ms/step - loss: 0.8904 - acc: 0.6270 - val_loss: 0.8738 - val_acc: 0.6471\n",
      "Epoch 7/70\n",
      "327/327 [==============================] - 5s 16ms/step - loss: 0.8839 - acc: 0.6337 - val_loss: 0.8739 - val_acc: 0.6412\n",
      "Epoch 8/70\n",
      "327/327 [==============================] - 5s 16ms/step - loss: 0.8781 - acc: 0.6352 - val_loss: 0.8566 - val_acc: 0.6461\n",
      "Epoch 9/70\n",
      "327/327 [==============================] - 5s 17ms/step - loss: 0.8748 - acc: 0.6361 - val_loss: 0.8480 - val_acc: 0.6512\n",
      "Epoch 10/70\n",
      "327/327 [==============================] - 5s 16ms/step - loss: 0.8716 - acc: 0.6386 - val_loss: 0.8522 - val_acc: 0.6487\n",
      "Epoch 11/70\n",
      "327/327 [==============================] - 6s 17ms/step - loss: 0.8681 - acc: 0.6394 - val_loss: 0.8483 - val_acc: 0.6554\n",
      "Epoch 12/70\n",
      "327/327 [==============================] - 6s 18ms/step - loss: 0.8642 - acc: 0.6417 - val_loss: 0.8454 - val_acc: 0.6517\n",
      "Epoch 13/70\n",
      "327/327 [==============================] - 5s 16ms/step - loss: 0.8608 - acc: 0.6450 - val_loss: 0.8473 - val_acc: 0.6452\n",
      "Epoch 14/70\n",
      "327/327 [==============================] - 5s 16ms/step - loss: 0.8555 - acc: 0.6444 - val_loss: 0.8440 - val_acc: 0.6550\n",
      "Epoch 15/70\n",
      "327/327 [==============================] - 5s 16ms/step - loss: 0.8549 - acc: 0.6465 - val_loss: 0.8506 - val_acc: 0.6520\n",
      "Epoch 16/70\n",
      "327/327 [==============================] - 5s 16ms/step - loss: 0.8492 - acc: 0.6467 - val_loss: 0.8375 - val_acc: 0.6594\n",
      "Epoch 17/70\n",
      "327/327 [==============================] - 5s 16ms/step - loss: 0.8487 - acc: 0.6499 - val_loss: 0.8394 - val_acc: 0.6563\n",
      "Epoch 18/70\n",
      "327/327 [==============================] - 5s 16ms/step - loss: 0.8439 - acc: 0.6505 - val_loss: 0.8524 - val_acc: 0.6523\n",
      "Epoch 19/70\n",
      "327/327 [==============================] - 5s 16ms/step - loss: 0.8406 - acc: 0.6531 - val_loss: 0.8470 - val_acc: 0.6471\n",
      "Epoch 20/70\n",
      "327/327 [==============================] - 5s 17ms/step - loss: 0.8418 - acc: 0.6534 - val_loss: 0.8301 - val_acc: 0.6584\n",
      "Epoch 21/70\n",
      "327/327 [==============================] - 5s 16ms/step - loss: 0.8375 - acc: 0.6548 - val_loss: 0.8416 - val_acc: 0.6573\n",
      "Epoch 22/70\n",
      "327/327 [==============================] - 5s 17ms/step - loss: 0.8347 - acc: 0.6541 - val_loss: 0.8368 - val_acc: 0.6560\n",
      "Epoch 23/70\n",
      "327/327 [==============================] - 5s 16ms/step - loss: 0.8330 - acc: 0.6570 - val_loss: 0.8338 - val_acc: 0.6657\n",
      "Epoch 24/70\n",
      "327/327 [==============================] - 5s 17ms/step - loss: 0.8310 - acc: 0.6566 - val_loss: 0.8353 - val_acc: 0.6606\n",
      "Epoch 25/70\n",
      "327/327 [==============================] - 5s 16ms/step - loss: 0.8299 - acc: 0.6549 - val_loss: 0.8309 - val_acc: 0.6629\n",
      "Epoch 26/70\n",
      "327/327 [==============================] - 5s 16ms/step - loss: 0.8253 - acc: 0.6586 - val_loss: 0.8286 - val_acc: 0.6615\n",
      "Epoch 27/70\n",
      "327/327 [==============================] - 5s 16ms/step - loss: 0.8232 - acc: 0.6656 - val_loss: 0.8278 - val_acc: 0.6638\n",
      "Epoch 28/70\n",
      "327/327 [==============================] - 5s 17ms/step - loss: 0.8236 - acc: 0.6611 - val_loss: 0.8207 - val_acc: 0.6664\n",
      "Epoch 29/70\n",
      "327/327 [==============================] - 5s 16ms/step - loss: 0.8182 - acc: 0.6627 - val_loss: 0.8279 - val_acc: 0.6633\n",
      "Epoch 30/70\n",
      "327/327 [==============================] - 5s 16ms/step - loss: 0.8186 - acc: 0.6632 - val_loss: 0.8249 - val_acc: 0.6628\n",
      "Epoch 31/70\n",
      "327/327 [==============================] - 5s 16ms/step - loss: 0.8167 - acc: 0.6648 - val_loss: 0.8277 - val_acc: 0.6677\n",
      "Epoch 32/70\n",
      "327/327 [==============================] - 5s 17ms/step - loss: 0.8130 - acc: 0.6654 - val_loss: 0.8163 - val_acc: 0.6747\n",
      "Epoch 33/70\n",
      "327/327 [==============================] - 5s 17ms/step - loss: 0.8120 - acc: 0.6673 - val_loss: 0.8180 - val_acc: 0.6681\n",
      "Epoch 34/70\n",
      "327/327 [==============================] - 5s 16ms/step - loss: 0.8102 - acc: 0.6678 - val_loss: 0.8276 - val_acc: 0.6604\n",
      "Epoch 35/70\n",
      "327/327 [==============================] - 5s 16ms/step - loss: 0.8072 - acc: 0.6703 - val_loss: 0.8349 - val_acc: 0.6593\n",
      "Epoch 36/70\n",
      "327/327 [==============================] - 5s 16ms/step - loss: 0.8048 - acc: 0.6706 - val_loss: 0.8202 - val_acc: 0.6657\n",
      "Epoch 37/70\n",
      "327/327 [==============================] - 5s 16ms/step - loss: 0.8061 - acc: 0.6674 - val_loss: 0.8194 - val_acc: 0.6656\n",
      "Epoch 38/70\n",
      "327/327 [==============================] - 5s 16ms/step - loss: 0.8068 - acc: 0.6701 - val_loss: 0.8157 - val_acc: 0.6722\n",
      "Epoch 39/70\n",
      "327/327 [==============================] - 5s 16ms/step - loss: 0.8012 - acc: 0.6710 - val_loss: 0.8165 - val_acc: 0.6675\n",
      "Epoch 40/70\n",
      "327/327 [==============================] - 5s 16ms/step - loss: 0.8001 - acc: 0.6710 - val_loss: 0.8154 - val_acc: 0.6700\n",
      "Epoch 41/70\n",
      "327/327 [==============================] - 5s 16ms/step - loss: 0.7957 - acc: 0.6766 - val_loss: 0.8217 - val_acc: 0.6699\n",
      "Epoch 42/70\n",
      "327/327 [==============================] - 5s 16ms/step - loss: 0.7978 - acc: 0.6732 - val_loss: 0.8134 - val_acc: 0.6716\n",
      "Epoch 43/70\n",
      "327/327 [==============================] - 5s 16ms/step - loss: 0.7960 - acc: 0.6760 - val_loss: 0.8161 - val_acc: 0.6702\n",
      "Epoch 44/70\n",
      "327/327 [==============================] - 5s 17ms/step - loss: 0.7955 - acc: 0.6742 - val_loss: 0.8117 - val_acc: 0.6751\n",
      "Epoch 45/70\n",
      "327/327 [==============================] - 5s 16ms/step - loss: 0.7959 - acc: 0.6724 - val_loss: 0.8176 - val_acc: 0.6710\n",
      "Epoch 46/70\n",
      "327/327 [==============================] - 5s 16ms/step - loss: 0.7924 - acc: 0.6756 - val_loss: 0.8185 - val_acc: 0.6713\n",
      "Epoch 47/70\n",
      "327/327 [==============================] - 5s 17ms/step - loss: 0.7909 - acc: 0.6770 - val_loss: 0.8174 - val_acc: 0.6687\n",
      "Epoch 48/70\n",
      "327/327 [==============================] - 5s 16ms/step - loss: 0.7897 - acc: 0.6793 - val_loss: 0.8130 - val_acc: 0.6744\n",
      "Epoch 49/70\n",
      "327/327 [==============================] - 5s 16ms/step - loss: 0.7873 - acc: 0.6785 - val_loss: 0.8305 - val_acc: 0.6664\n",
      "Epoch 50/70\n",
      "327/327 [==============================] - 5s 16ms/step - loss: 0.7901 - acc: 0.6752 - val_loss: 0.8085 - val_acc: 0.6745\n",
      "Epoch 51/70\n",
      "327/327 [==============================] - 5s 16ms/step - loss: 0.7843 - acc: 0.6787 - val_loss: 0.8193 - val_acc: 0.6677\n",
      "Epoch 52/70\n",
      "327/327 [==============================] - 5s 17ms/step - loss: 0.7842 - acc: 0.6800 - val_loss: 0.8103 - val_acc: 0.6751\n",
      "Epoch 53/70\n",
      "327/327 [==============================] - 5s 16ms/step - loss: 0.7829 - acc: 0.6807 - val_loss: 0.8112 - val_acc: 0.6718\n",
      "Epoch 54/70\n",
      "327/327 [==============================] - 5s 16ms/step - loss: 0.7845 - acc: 0.6775 - val_loss: 0.8227 - val_acc: 0.6680\n",
      "Epoch 55/70\n",
      "327/327 [==============================] - 6s 17ms/step - loss: 0.7829 - acc: 0.6802 - val_loss: 0.8211 - val_acc: 0.6653\n",
      "Epoch 56/70\n",
      "327/327 [==============================] - 5s 16ms/step - loss: 0.7781 - acc: 0.6830 - val_loss: 0.8141 - val_acc: 0.6726\n",
      "Epoch 57/70\n",
      "327/327 [==============================] - 5s 16ms/step - loss: 0.7789 - acc: 0.6809 - val_loss: 0.8097 - val_acc: 0.6705\n",
      "Epoch 57: early stopping\n"
     ]
    }
   ],
   "source": [
    "model = Sequential()\n",
    "model.add(BatchNormalization())\n",
    "model.add(Dense(512, activation='relu', input_dim=X_train.shape[1]))\n",
    "model.add(Dropout(0.4))\n",
    "model.add(BatchNormalization())\n",
    "model.add(Dense(512, activation='relu'))\n",
    "model.add(Dropout(0.4))\n",
    "model.add(BatchNormalization())\n",
    "model.add(Dense(512, activation='relu'))\n",
    "model.add(Dropout(0.4))\n",
    "model.add(BatchNormalization())\n",
    "model.add(Dense(4, activation='softmax'))\n",
    "\n",
    "model.compile(\n",
    "    loss='sparse_categorical_crossentropy',\n",
    "    optimizer='adam',\n",
    "    metrics=['acc']\n",
    ")\n",
    "\n",
    "history = model.fit(\n",
    "    Z_train,\n",
    "    y_train,\n",
    "    validation_data=(Z_test, y_test),\n",
    "    epochs=70,\n",
    "    batch_size=128,\n",
    "    callbacks=[es]\n",
    ")"
   ]
  },
  {
   "cell_type": "markdown",
   "id": "8ae7e88c-51d0-4495-82ff-e56c4fafea8e",
   "metadata": {},
   "source": [
    "#### Best Model:"
   ]
  },
  {
   "cell_type": "markdown",
   "id": "f20b8ea0-35d0-4600-a786-80f4673545e9",
   "metadata": {},
   "source": [
    "I tested and tweaked a number of parameters for this model. In the end these were my best parameters:\n",
    "- Three dense layers of 512 nodes each\n",
    "- Dropout of 0.4\n",
    "- Batch Normalization of all layers\n",
    "- Batch size of 128\n",
    "- 200 epochs w/ early stopping"
   ]
  },
  {
   "cell_type": "code",
   "execution_count": 24,
   "id": "630736fb-0d5c-4dda-9ace-7f8c08956aed",
   "metadata": {},
   "outputs": [
    {
     "name": "stdout",
     "output_type": "stream",
     "text": [
      "Model: \"sequential\"\n",
      "_________________________________________________________________\n",
      " Layer (type)                Output Shape              Param #   \n",
      "=================================================================\n",
      " batch_normalization (BatchN  (None, 18)               72        \n",
      " ormalization)                                                   \n",
      "                                                                 \n",
      " dense (Dense)               (None, 512)               9728      \n",
      "                                                                 \n",
      " dropout (Dropout)           (None, 512)               0         \n",
      "                                                                 \n",
      " batch_normalization_1 (Batc  (None, 512)              2048      \n",
      " hNormalization)                                                 \n",
      "                                                                 \n",
      " dense_1 (Dense)             (None, 512)               262656    \n",
      "                                                                 \n",
      " dropout_1 (Dropout)         (None, 512)               0         \n",
      "                                                                 \n",
      " batch_normalization_2 (Batc  (None, 512)              2048      \n",
      " hNormalization)                                                 \n",
      "                                                                 \n",
      " dense_2 (Dense)             (None, 512)               262656    \n",
      "                                                                 \n",
      " dropout_2 (Dropout)         (None, 512)               0         \n",
      "                                                                 \n",
      " batch_normalization_3 (Batc  (None, 512)              2048      \n",
      " hNormalization)                                                 \n",
      "                                                                 \n",
      " dense_3 (Dense)             (None, 4)                 2052      \n",
      "                                                                 \n",
      "=================================================================\n",
      "Total params: 543,308\n",
      "Trainable params: 540,200\n",
      "Non-trainable params: 3,108\n",
      "_________________________________________________________________\n"
     ]
    }
   ],
   "source": [
    "model.summary()"
   ]
  },
  {
   "cell_type": "code",
   "execution_count": 25,
   "id": "ac4ab966-19f6-4f53-98c3-987714307014",
   "metadata": {},
   "outputs": [
    {
     "name": "stdout",
     "output_type": "stream",
     "text": [
      "327/327 [==============================] - 2s 6ms/step - loss: 0.8097 - acc: 0.6705\n"
     ]
    },
    {
     "data": {
      "text/plain": [
       "[0.8097003698348999, 0.6704654097557068]"
      ]
     },
     "execution_count": 25,
     "metadata": {},
     "output_type": "execute_result"
    }
   ],
   "source": [
    "model.evaluate(Z_test, y_test)"
   ]
  },
  {
   "cell_type": "code",
   "execution_count": 26,
   "id": "4c614f55-3a45-45c9-8dc6-16e3b2b324d9",
   "metadata": {},
   "outputs": [
    {
     "data": {
      "image/png": "[encoded data removed]",
      "text/plain": [
       "<Figure size 640x480 with 1 Axes>"
      ]
     },
     "metadata": {},
     "output_type": "display_data"
    }
   ],
   "source": [
    "plt.plot(history.history['loss'], c='navy', label='Training Loss')\n",
    "plt.plot(history.history['val_loss'], c='orange', label='Val Loss')\n",
    "plt.legend();"
   ]
  },
  {
   "cell_type": "code",
   "execution_count": 27,
   "id": "3cf6ba8b-f5c0-4c55-97fc-0bafcbf5def9",
   "metadata": {},
   "outputs": [
    {
     "data": {
      "image/png": "[encoded data removed]",
      "text/plain": [
       "<Figure size 640x480 with 1 Axes>"
      ]
     },
     "metadata": {},
     "output_type": "display_data"
    }
   ],
   "source": [
    "plt.plot(history.history['acc'], c='navy', label='Accuracy')\n",
    "plt.plot(history.history['val_acc'], c='orange', label='Val Accuracy')\n",
    "plt.legend();"
   ]
  },
  {
   "cell_type": "code",
   "execution_count": 28,
   "id": "36dc8b67-db51-404a-b035-80e51e55481e",
   "metadata": {},
   "outputs": [
    {
     "name": "stdout",
     "output_type": "stream",
     "text": [
      " 35/327 [==>...........................] - ETA: 0s"
     ]
    },
    {
     "name": "stderr",
     "output_type": "stream",
     "text": [
      "2023-03-23 19:48:48.114176: I tensorflow/core/grappler/optimizers/custom_graph_optimizer_registry.cc:113] Plugin optimizer for device_type GPU is enabled.\n"
     ]
    },
    {
     "name": "stdout",
     "output_type": "stream",
     "text": [
      "327/327 [==============================] - 1s 3ms/step\n"
     ]
    },
    {
     "data": {
      "text/plain": [
       "array([3, 0, 1, ..., 0, 2, 0])"
      ]
     },
     "execution_count": 28,
     "metadata": {},
     "output_type": "execute_result"
    }
   ],
   "source": [
    "y_preds = np.argmax(model.predict(Z_test), axis = 1)\n",
    "y_preds"
   ]
  },
  {
   "cell_type": "code",
   "execution_count": 29,
   "id": "7970b913-766b-4919-b676-43d3f93a0d17",
   "metadata": {},
   "outputs": [
    {
     "data": {
      "image/png": "[encoded data removed]",
      "text/plain": [
       "<Figure size 640x480 with 2 Axes>"
      ]
     },
     "metadata": {},
     "output_type": "display_data"
    }
   ],
   "source": [
    "ConfusionMatrixDisplay.from_predictions(y_test, y_preds, normalize='true', cmap = 'Reds')\n",
    "plt.title(\"Confusion Matrix\");"
   ]
  }
 ],
 "metadata": {
  "kernelspec": {
   "display_name": "Python 3 (ipykernel)",
   "language": "python",
   "name": "python3"
  },
  "language_info": {
   "codemirror_mode": {
    "name": "ipython",
    "version": 3
   },
   "file_extension": ".py",
   "mimetype": "text/x-python",
   "name": "python",
   "nbconvert_exporter": "python",
   "pygments_lexer": "ipython3",
   "version": "3.9.16"
  }
 },
 "nbformat": 4,
 "nbformat_minor": 5
}
